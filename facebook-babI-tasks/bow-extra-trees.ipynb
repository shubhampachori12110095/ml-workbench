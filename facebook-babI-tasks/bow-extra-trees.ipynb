{
 "cells": [
  {
   "cell_type": "code",
   "execution_count": 1,
   "metadata": {},
   "outputs": [],
   "source": [
    "import os\n",
    "import pandas as pd\n",
    "import matplotlib.pyplot as plt\n",
    "from parse_dataset import parse_data\n",
    "%matplotlib inline\n",
    "\n",
    "os.chdir(\"/Users/enrico.t/code/ml-reference-implementations\")\n",
    "df = parse_data('data/babI/tasks_1-20_v1-2/en/qa1_single-supporting-fact_train.txt')"
   ]
  },
  {
   "cell_type": "code",
   "execution_count": 2,
   "metadata": {},
   "outputs": [],
   "source": [
    "from sklearn.feature_extraction.text import CountVectorizer\n",
    "vectorizer = CountVectorizer(stop_words=['is', 'the', 'to', 'where'])\n",
    "corpus = df['fact1'].tolist() + df['fact2'].tolist() + df['question'].tolist() + df['answer'].tolist()\n",
    "vectorizer.fit(corpus)\n",
    "\n",
    "y_train = df['answer']\n",
    "X_train = pd.concat([\n",
    "        pd.DataFrame(vectorizer.transform(df['fact1']).todense(), columns=vectorizer.get_feature_names()), \n",
    "        pd.DataFrame(vectorizer.transform(df['fact2']).todense(), columns=vectorizer.get_feature_names()), \n",
    "        pd.DataFrame(vectorizer.transform(df['question']).todense(), columns=vectorizer.get_feature_names())\n",
    "    ], \n",
    "    axis=1)\n",
    "\n",
    "df_test = parse_data('data/babI/tasks_1-20_v1-2/en/qa1_single-supporting-fact_test.txt')\n",
    "\n",
    "y_test = df_test['answer']\n",
    "X_test = pd.concat([\n",
    "        pd.DataFrame(vectorizer.transform(df_test['fact1']).todense(), columns=vectorizer.get_feature_names()), \n",
    "        pd.DataFrame(vectorizer.transform(df_test['fact2']).todense(), columns=vectorizer.get_feature_names()), \n",
    "        pd.DataFrame(vectorizer.transform(df_test['question']).todense(), columns=vectorizer.get_feature_names())\n",
    "    ], \n",
    "    axis=1)"
   ]
  },
  {
   "cell_type": "code",
   "execution_count": 4,
   "metadata": {},
   "outputs": [
    {
     "data": {
      "text/plain": [
       "{'cv': 5,\n",
       " 'error_score': 'raise-deprecating',\n",
       " 'estimator': AdaBoostClassifier(algorithm='SAMME.R', base_estimator=None,\n",
       "           learning_rate=1.0, n_estimators=50, random_state=42),\n",
       " 'estimator__algorithm': 'SAMME.R',\n",
       " 'estimator__base_estimator': None,\n",
       " 'estimator__learning_rate': 1.0,\n",
       " 'estimator__n_estimators': 50,\n",
       " 'estimator__random_state': 42,\n",
       " 'fit_params': None,\n",
       " 'iid': 'warn',\n",
       " 'n_jobs': None,\n",
       " 'param_grid': {},\n",
       " 'pre_dispatch': '2*n_jobs',\n",
       " 'refit': True,\n",
       " 'return_train_score': 'warn',\n",
       " 'scoring': None,\n",
       " 'verbose': 0}"
      ]
     },
     "execution_count": 4,
     "metadata": {},
     "output_type": "execute_result"
    }
   ],
   "source": [
    "from sklearn.ensemble import AdaBoostClassifier\n",
    "from sklearn.model_selection import GridSearchCV\n",
    "\n",
    "parameter_grid = {}\n",
    "\n",
    "gs = GridSearchCV(\n",
    "    AdaBoostClassifier(random_state=42),\n",
    "    param_grid=parameter_grid,\n",
    "    cv=5\n",
    ")\n",
    "\n",
    "gs.fit(X_train, y_train)\n",
    "gs.get_params()"
   ]
  },
  {
   "cell_type": "code",
   "execution_count": 5,
   "metadata": {},
   "outputs": [
    {
     "name": "stdout",
     "output_type": "stream",
     "text": [
      "0.463\n"
     ]
    }
   ],
   "source": [
    "from pandas_ml import ConfusionMatrix\n",
    "\n",
    "print gs.score(X=X_test, y=y_test)\n",
    "\n",
    "y_predict = gs.predict(X_test)"
   ]
  },
  {
   "cell_type": "code",
   "execution_count": 6,
   "metadata": {},
   "outputs": [
    {
     "name": "stderr",
     "output_type": "stream",
     "text": [
      "/Users/enrico.t/code/ml-reference-implementations/venv/lib/python2.7/site-packages/pandas_ml/confusion_matrix/stats.py:60: FutureWarning: supplying multiple axes to axis is deprecated and will be removed in a future version.\n",
      "  num = df[df > 1].dropna(axis=[0, 1], thresh=1).applymap(lambda n: choose(n, 2)).sum().sum() - np.float64(nis2 * njs2) / n2\n"
     ]
    },
    {
     "name": "stdout",
     "output_type": "stream",
     "text": [
      "Confusion Matrix:\n",
      "\n",
      "Predicted  bathroom  bedroom  garden  hallway  kitchen  office  __all__\n",
      "Actual                                                                 \n",
      "bathroom         80       16      16       16       13       8      149\n",
      "bedroom          23       79       9       11       23      26      171\n",
      "garden           20       31      76       15       21      24      187\n",
      "hallway          13       19      10       73       14      25      154\n",
      "kitchen          24       11      15       18       76      13      157\n",
      "office           31       14      17       24       17      79      182\n",
      "__all__         191      170     143      157      164     175     1000\n",
      "\n",
      "\n",
      "Overall Statistics:\n",
      "\n",
      "Accuracy: 0.463\n",
      "95% CI: (0.43174313655264296, 0.49447528364059845)\n",
      "No Information Rate: ToDo\n",
      "P-Value [Acc > NIR]: 1.1695024266398575e-84\n",
      "Kappa: 0.3560795919199381\n",
      "Mcnemar's Test P-Value: ToDo\n",
      "\n",
      "\n",
      "Class Statistics:\n",
      "\n",
      "Classes                                 bathroom   bedroom     garden  \\\n",
      "Population                                  1000      1000       1000   \n",
      "P: Condition positive                        149       171        187   \n",
      "N: Condition negative                        851       829        813   \n",
      "Test outcome positive                        191       170        143   \n",
      "Test outcome negative                        809       830        857   \n",
      "TP: True Positive                             80        79         76   \n",
      "TN: True Negative                            740       738        746   \n",
      "FP: False Positive                           111        91         67   \n",
      "FN: False Negative                            69        92        111   \n",
      "TPR: (Sensitivity, hit rate, recall)    0.536913  0.461988   0.406417   \n",
      "TNR=SPC: (Specificity)                  0.869565  0.890229   0.917589   \n",
      "PPV: Pos Pred Value (Precision)         0.418848  0.464706   0.531469   \n",
      "NPV: Neg Pred Value                      0.91471  0.889157   0.870478   \n",
      "FPR: False-out                          0.130435  0.109771  0.0824108   \n",
      "FDR: False Discovery Rate               0.581152  0.535294   0.468531   \n",
      "FNR: Miss Rate                          0.463087  0.538012   0.593583   \n",
      "ACC: Accuracy                               0.82     0.817      0.822   \n",
      "F1 score                                0.470588  0.463343   0.460606   \n",
      "MCC: Matthews correlation coefficient   0.368217  0.353039   0.360879   \n",
      "Informedness                            0.406478  0.352217   0.324006   \n",
      "Markedness                              0.333558  0.353863   0.401947   \n",
      "Prevalence                                 0.149     0.171      0.187   \n",
      "LR+: Positive likelihood ratio           4.11633   4.20866     4.9316   \n",
      "LR-: Negative likelihood ratio           0.53255  0.604352   0.646894   \n",
      "DOR: Diagnostic odds ratio               7.72947   6.96393     7.6235   \n",
      "FOR: False omission rate               0.0852905  0.110843   0.129522   \n",
      "\n",
      "Classes                                  hallway   kitchen    office  \n",
      "Population                                  1000      1000      1000  \n",
      "P: Condition positive                        154       157       182  \n",
      "N: Condition negative                        846       843       818  \n",
      "Test outcome positive                        157       164       175  \n",
      "Test outcome negative                        843       836       825  \n",
      "TP: True Positive                             73        76        79  \n",
      "TN: True Negative                            762       755       722  \n",
      "FP: False Positive                            84        88        96  \n",
      "FN: False Negative                            81        81       103  \n",
      "TPR: (Sensitivity, hit rate, recall)    0.474026  0.484076  0.434066  \n",
      "TNR=SPC: (Specificity)                  0.900709  0.895611  0.882641  \n",
      "PPV: Pos Pred Value (Precision)         0.464968  0.463415  0.451429  \n",
      "NPV: Neg Pred Value                     0.903915   0.90311  0.875152  \n",
      "FPR: False-out                         0.0992908  0.104389  0.117359  \n",
      "FDR: False Discovery Rate               0.535032  0.536585  0.548571  \n",
      "FNR: Miss Rate                          0.525974  0.515924  0.565934  \n",
      "ACC: Accuracy                              0.835     0.831     0.801  \n",
      "F1 score                                0.469453   0.47352  0.442577  \n",
      "MCC: Matthews correlation coefficient   0.371797  0.373048  0.321605  \n",
      "Informedness                            0.374735  0.379687  0.316707  \n",
      "Markedness                              0.368883  0.366525   0.32658  \n",
      "Prevalence                                 0.154     0.157     0.182  \n",
      "LR+: Positive likelihood ratio           4.77412   4.63723    3.6986  \n",
      "LR-: Negative likelihood ratio          0.583955  0.576058  0.641183  \n",
      "DOR: Diagnostic odds ratio               8.17549   8.04994   5.76841  \n",
      "FOR: False omission rate               0.0960854   0.09689  0.124848  \n"
     ]
    }
   ],
   "source": [
    "cm = ConfusionMatrix(y_test, y_predict)\n",
    "cm.print_stats()"
   ]
  },
  {
   "cell_type": "code",
   "execution_count": 7,
   "metadata": {},
   "outputs": [
    {
     "data": {
      "text/plain": [
       "<matplotlib.axes._subplots.AxesSubplot at 0x115644d10>"
      ]
     },
     "execution_count": 7,
     "metadata": {},
     "output_type": "execute_result"
    },
    {
     "data": {
      "image/png": "[encoded data removed]",
      "text/plain": [
       "<Figure size 648x576 with 2 Axes>"
      ]
     },
     "metadata": {
      "needs_background": "light"
     },
     "output_type": "display_data"
    }
   ],
   "source": [
    "cm.plot()"
   ]
  },
  {
   "cell_type": "code",
   "execution_count": null,
   "metadata": {},
   "outputs": [],
   "source": []
  }
 ],
 "metadata": {
  "kernelspec": {
   "display_name": "ml-reference-implementations",
   "language": "python",
   "name": "ml-reference-implementations"
  },
  "language_info": {
   "codemirror_mode": {
    "name": "ipython",
    "version": 2
   },
   "file_extension": ".py",
   "mimetype": "text/x-python",
   "name": "python",
   "nbconvert_exporter": "python",
   "pygments_lexer": "ipython2",
   "version": "2.7.15"
  }
 },
 "nbformat": 4,
 "nbformat_minor": 2
}
