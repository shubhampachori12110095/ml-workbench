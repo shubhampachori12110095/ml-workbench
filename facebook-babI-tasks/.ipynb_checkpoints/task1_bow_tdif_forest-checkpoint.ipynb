{
 "cells": [
  {
   "cell_type": "code",
   "execution_count": 58,
   "metadata": {},
   "outputs": [
    {
     "name": "stdout",
     "output_type": "stream",
     "text": [
      "Fitting 5 folds for each of 12 candidates, totalling 60 fits\n"
     ]
    },
    {
     "name": "stderr",
     "output_type": "stream",
     "text": [
      "[Parallel(n_jobs=-1)]: Using backend LokyBackend with 4 concurrent workers.\n",
      "[Parallel(n_jobs=-1)]: Done  42 tasks      | elapsed:    9.5s\n",
      "[Parallel(n_jobs=-1)]: Done  60 out of  60 | elapsed:   14.6s finished\n",
      "/Users/enrico.t/code/ml-reference-implementations/venv/lib/python2.7/site-packages/sklearn/model_selection/_search.py:841: DeprecationWarning: The default of the `iid` parameter will change from True to False in version 0.22 and will be removed in 0.24. This will change numeric results when test-set sizes are unequal.\n",
      "  DeprecationWarning)\n"
     ]
    },
    {
     "name": "stdout",
     "output_type": "stream",
     "text": [
      "{'clf__criterion': 'gini', 'clf__n_estimators': 200, 'bow__stop_words': None}\n"
     ]
    }
   ],
   "source": [
    "\"\"\"\n",
    "PLAN (BabI task 1)\n",
    "\n",
    "given input:\n",
    "- fact 1   | John travelled to the hallway.\n",
    "- fact 2   | Mary journeyed to the bathroom.\n",
    "- question | Where is John?\n",
    "\n",
    "output:\n",
    "- answer   | hallway\n",
    "\"\"\"\n",
    "\n",
    "from sklearn.feature_extraction.text import CountVectorizer\n",
    "from sklearn.feature_extraction.text import TfidfTransformer\n",
    "from sklearn.model_selection import GridSearchCV\n",
    "from sklearn.pipeline import Pipeline\n",
    "from sklearn.ensemble import RandomForestClassifier\n",
    "\n",
    "pipeline = Pipeline([\n",
    "    ('bow', CountVectorizer()),\n",
    "    ('tfidf', TfidfTransformer()),\n",
    "    ('clf', RandomForestClassifier()),\n",
    "])\n",
    "\n",
    "parameters = {\n",
    "    'bow__stop_words': ['english', None],\n",
    "    'clf__n_estimators': [10, 50, 100, 200],\n",
    "    'clf__criterion': ['gini', 'entropy'],\n",
    "#     'clf__max_depth': range(1, 20),\n",
    "#     'clf__max_features': range(1, 20),\n",
    "}\n",
    "\n",
    "import pandas as pd\n",
    "from parse_dataset import parse_data\n",
    "\n",
    "df_train = parse_data('/Users/enrico.t/code/ml-reference-implementations/data/babI/tasks_1-20_v1-2/en/qa1_single-supporting-fact_train.txt')\n",
    "X_train = df_train['fact1'] + ' ' + df_train['fact2'] + ' ' + df_train['question']\n",
    "y_train = df_train['answer']\n",
    "\n",
    "df_test = parse_data('/Users/enrico.t/code/ml-reference-implementations/data/babI/tasks_1-20_v1-2/en/qa1_single-supporting-fact_train.txt')\n",
    "X_test = df_test['fact1'] + ' ' + df_test['fact2'] + ' ' + df_test['question']\n",
    "y_test = df_test['answer']\n",
    "\n",
    "model = GridSearchCV(\n",
    "    pipeline, \n",
    "    parameters, \n",
    "    cv=5,\n",
    "    n_jobs=-1, \n",
    "    verbose=1\n",
    ")\n",
    "model.fit(X_train, y_train)\n",
    "y_predict = model.predict(X_test)\n",
    "\n",
    "print model.best_params_"
   ]
  },
  {
   "cell_type": "code",
   "execution_count": 59,
   "metadata": {
    "scrolled": false
   },
   "outputs": [
    {
     "name": "stdout",
     "output_type": "stream",
     "text": [
      "Confusion Matrix:\n",
      "\n",
      "Predicted  bathroom  bedroom  garden  hallway  kitchen  office  __all__\n",
      "Actual                                                                 \n",
      "bathroom        146        1       5        1        1       0      154\n",
      "bedroom           1      147       2        2        1       2      155\n",
      "garden            2        1     172        1        0       1      177\n",
      "hallway           2        3       3      165        1       1      175\n",
      "kitchen           0        3       4        2      164       0      173\n",
      "office            2        0       3        2        2     157      166\n",
      "__all__         153      155     189      173      169     161     1000\n",
      "\n",
      "\n",
      "Overall Statistics:\n",
      "\n",
      "Accuracy: 0.951\n",
      "95% CI: (0.9357339468598277, 0.9635329408279537)\n",
      "No Information Rate: ToDo\n",
      "P-Value [Acc > NIR]: 0.0\n",
      "Kappa: 0.9411568326524338\n",
      "Mcnemar's Test P-Value: ToDo\n",
      "\n",
      "\n",
      "Class Statistics:\n",
      "\n",
      "Classes                                  bathroom     bedroom      garden  \\\n",
      "Population                                   1000        1000        1000   \n",
      "P: Condition positive                         154         155         177   \n",
      "N: Condition negative                         846         845         823   \n",
      "Test outcome positive                         153         155         189   \n",
      "Test outcome negative                         847         845         811   \n",
      "TP: True Positive                             146         147         172   \n",
      "TN: True Negative                             839         837         806   \n",
      "FP: False Positive                              7           8          17   \n",
      "FN: False Negative                              8           8           5   \n",
      "TPR: (Sensitivity, hit rate, recall)     0.948052    0.948387    0.971751   \n",
      "TNR=SPC: (Specificity)                   0.991726    0.990533    0.979344   \n",
      "PPV: Pos Pred Value (Precision)          0.954248    0.948387    0.910053   \n",
      "NPV: Neg Pred Value                      0.990555    0.990533    0.993835   \n",
      "FPR: False-out                         0.00827423  0.00946746   0.0206561   \n",
      "FDR: False Discovery Rate               0.0457516   0.0516129   0.0899471   \n",
      "FNR: Miss Rate                          0.0519481   0.0516129   0.0282486   \n",
      "ACC: Accuracy                               0.985       0.984       0.978   \n",
      "F1 score                                  0.95114    0.948387    0.939891   \n",
      "MCC: Matthews correlation coefficient    0.942287     0.93892    0.927191   \n",
      "Informedness                             0.939778     0.93892    0.951095   \n",
      "Markedness                               0.944803     0.93892    0.903888   \n",
      "Prevalence                                  0.154       0.155       0.177   \n",
      "LR+: Positive likelihood ratio            114.579     100.173     47.0442   \n",
      "LR-: Negative likelihood ratio          0.0523815   0.0521062   0.0288444   \n",
      "DOR: Diagnostic odds ratio                2187.39     1922.48     1630.96   \n",
      "FOR: False omission rate                0.0094451  0.00946746  0.00616523   \n",
      "\n",
      "Classes                                   hallway     kitchen      office  \n",
      "Population                                   1000        1000        1000  \n",
      "P: Condition positive                         175         173         166  \n",
      "N: Condition negative                         825         827         834  \n",
      "Test outcome positive                         173         169         161  \n",
      "Test outcome negative                         827         831         839  \n",
      "TP: True Positive                             165         164         157  \n",
      "TN: True Negative                             817         822         830  \n",
      "FP: False Positive                              8           5           4  \n",
      "FN: False Negative                             10           9           9  \n",
      "TPR: (Sensitivity, hit rate, recall)     0.942857    0.947977    0.945783  \n",
      "TNR=SPC: (Specificity)                   0.990303    0.993954    0.995204  \n",
      "PPV: Pos Pred Value (Precision)          0.953757    0.970414    0.975155  \n",
      "NPV: Neg Pred Value                      0.987908     0.98917    0.989273  \n",
      "FPR: False-out                         0.00969697  0.00604595  0.00479616  \n",
      "FDR: False Discovery Rate               0.0462428   0.0295858   0.0248447  \n",
      "FNR: Miss Rate                          0.0571429   0.0520231   0.0542169  \n",
      "ACC: Accuracy                               0.982       0.986       0.987  \n",
      "F1 score                                 0.948276    0.959064    0.960245  \n",
      "MCC: Matthews correlation coefficient    0.937403    0.950716    0.952635  \n",
      "Informedness                              0.93316    0.941931    0.940987  \n",
      "Markedness                               0.941665    0.959584    0.964428  \n",
      "Prevalence                                  0.175       0.173       0.166  \n",
      "LR+: Positive likelihood ratio            97.2321     156.795     197.196  \n",
      "LR-: Negative likelihood ratio          0.0577024   0.0523396   0.0544782  \n",
      "DOR: Diagnostic odds ratio                1685.06     2995.73     3619.72  \n",
      "FOR: False omission rate                0.0120919   0.0108303   0.0107271  \n"
     ]
    }
   ],
   "source": [
    "from pandas_ml import ConfusionMatrix\n",
    "\n",
    "cm = ConfusionMatrix(y_test, y_predict)\n",
    "cm.print_stats()\n",
    "# cm.plot()"
   ]
  },
  {
   "cell_type": "code",
   "execution_count": null,
   "metadata": {},
   "outputs": [],
   "source": []
  }
 ],
 "metadata": {
  "kernelspec": {
   "display_name": "ml-reference-implementations",
   "language": "python",
   "name": "ml-reference-implementations"
  },
  "language_info": {
   "codemirror_mode": {
    "name": "ipython",
    "version": 2
   },
   "file_extension": ".py",
   "mimetype": "text/x-python",
   "name": "python",
   "nbconvert_exporter": "python",
   "pygments_lexer": "ipython2",
   "version": "2.7.15"
  }
 },
 "nbformat": 4,
 "nbformat_minor": 2
}
