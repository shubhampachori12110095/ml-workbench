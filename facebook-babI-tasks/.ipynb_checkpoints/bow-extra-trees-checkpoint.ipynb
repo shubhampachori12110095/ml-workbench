{
 "cells": [
  {
   "cell_type": "code",
   "execution_count": 1,
   "metadata": {},
   "outputs": [],
   "source": [
    "import os\n",
    "import pandas as pd\n",
    "import matplotlib.pyplot as plt\n",
    "from parse_dataset import parse_data\n",
    "%matplotlib inline\n",
    "\n",
    "os.chdir(\"/Users/enrico.t/code/ml-reference-implementations\")\n",
    "df = parse_data('data/babI/tasks_1-20_v1-2/en/qa1_single-supporting-fact_train.txt')"
   ]
  },
  {
   "cell_type": "code",
   "execution_count": 2,
   "metadata": {},
   "outputs": [],
   "source": [
    "from sklearn.feature_extraction.text import CountVectorizer\n",
    "vectorizer = CountVectorizer(stop_words=['is', 'the', 'to', 'where'])\n",
    "corpus = df['fact1'].tolist() + df['fact2'].tolist() + df['question'].tolist() + df['answer'].tolist()\n",
    "vectorizer.fit(corpus)\n",
    "\n",
    "y_train = df['answer']\n",
    "X_train = pd.concat([\n",
    "        pd.DataFrame(vectorizer.transform(df['fact1']).todense(), columns=vectorizer.get_feature_names()), \n",
    "        pd.DataFrame(vectorizer.transform(df['fact2']).todense(), columns=vectorizer.get_feature_names()), \n",
    "        pd.DataFrame(vectorizer.transform(df['question']).todense(), columns=vectorizer.get_feature_names())\n",
    "    ], \n",
    "    axis=1)\n",
    "\n",
    "df_test = parse_data('data/babI/tasks_1-20_v1-2/en/qa1_single-supporting-fact_test.txt')\n",
    "\n",
    "y_test = df_test['answer']\n",
    "X_test = pd.concat([\n",
    "        pd.DataFrame(vectorizer.transform(df_test['fact1']).todense(), columns=vectorizer.get_feature_names()), \n",
    "        pd.DataFrame(vectorizer.transform(df_test['fact2']).todense(), columns=vectorizer.get_feature_names()), \n",
    "        pd.DataFrame(vectorizer.transform(df_test['question']).todense(), columns=vectorizer.get_feature_names())\n",
    "    ], \n",
    "    axis=1)"
   ]
  },
  {
   "cell_type": "code",
   "execution_count": 3,
   "metadata": {},
   "outputs": [
    {
     "name": "stderr",
     "output_type": "stream",
     "text": [
      "/Users/enrico.t/code/ml-reference-implementations/venv/lib/python2.7/site-packages/sklearn/model_selection/_search.py:841: DeprecationWarning: The default of the `iid` parameter will change from True to False in version 0.22 and will be removed in 0.24. This will change numeric results when test-set sizes are unequal.\n",
      "  DeprecationWarning)\n"
     ]
    },
    {
     "data": {
      "text/plain": [
       "{'cv': 5,\n",
       " 'error_score': 'raise-deprecating',\n",
       " 'estimator': ExtraTreesClassifier(bootstrap=False, class_weight=None, criterion='gini',\n",
       "            max_depth=None, max_features='auto', max_leaf_nodes=None,\n",
       "            min_impurity_decrease=0.0, min_impurity_split=None,\n",
       "            min_samples_leaf=1, min_samples_split=2,\n",
       "            min_weight_fraction_leaf=0.0, n_estimators='warn', n_jobs=None,\n",
       "            oob_score=False, random_state=42, verbose=0, warm_start=False),\n",
       " 'estimator__bootstrap': False,\n",
       " 'estimator__class_weight': None,\n",
       " 'estimator__criterion': 'gini',\n",
       " 'estimator__max_depth': None,\n",
       " 'estimator__max_features': 'auto',\n",
       " 'estimator__max_leaf_nodes': None,\n",
       " 'estimator__min_impurity_decrease': 0.0,\n",
       " 'estimator__min_impurity_split': None,\n",
       " 'estimator__min_samples_leaf': 1,\n",
       " 'estimator__min_samples_split': 2,\n",
       " 'estimator__min_weight_fraction_leaf': 0.0,\n",
       " 'estimator__n_estimators': 'warn',\n",
       " 'estimator__n_jobs': None,\n",
       " 'estimator__oob_score': False,\n",
       " 'estimator__random_state': 42,\n",
       " 'estimator__verbose': 0,\n",
       " 'estimator__warm_start': False,\n",
       " 'fit_params': None,\n",
       " 'iid': 'warn',\n",
       " 'n_jobs': None,\n",
       " 'param_grid': {'criterion': ['entropy', 'gini'],\n",
       "  'max_depth': [5, 10, 20],\n",
       "  'max_features': [5, 10, 20, 40, 'sqrt', 'log2', None],\n",
       "  'n_estimators': [10, 100]},\n",
       " 'pre_dispatch': '2*n_jobs',\n",
       " 'refit': True,\n",
       " 'return_train_score': 'warn',\n",
       " 'scoring': None,\n",
       " 'verbose': 0}"
      ]
     },
     "execution_count": 3,
     "metadata": {},
     "output_type": "execute_result"
    }
   ],
   "source": [
    "from sklearn.ensemble import AdaBoostClassifier\n",
    "from sklearn.model_selection import GridSearchCV\n",
    "\n",
    "parameter_grid = { \n",
    "    'n_estimators': [10, 100],    \n",
    "    'max_depth': [5, 10, 20], \n",
    "    'max_features': [5, 10, 20, 40] + ['sqrt', 'log2', None],\n",
    "    'criterion': ['entropy', 'gini'],\n",
    "    # 'min_samples_split': range(2,10),\n",
    "    # 'min_samples_leaf': range(1,10),\n",
    "    # 'max_leaf_nodes': range(2,10) + [None],\n",
    "}\n",
    "\n",
    "gs = GridSearchCV(\n",
    "    AdaBoostClassifier(random_state=42),\n",
    "    param_grid=parameter_grid,\n",
    "    cv=5\n",
    ")\n",
    "\n",
    "gs.fit(X_train, y_train)\n",
    "gs.get_params()"
   ]
  },
  {
   "cell_type": "code",
   "execution_count": 7,
   "metadata": {},
   "outputs": [
    {
     "name": "stdout",
     "output_type": "stream",
     "text": [
      "0.589\n"
     ]
    }
   ],
   "source": [
    "from pandas_ml import ConfusionMatrix\n",
    "\n",
    "print gs.score(X=X_test, y=y_test)\n",
    "\n",
    "y_predict = gs.predict(X_test)"
   ]
  },
  {
   "cell_type": "code",
   "execution_count": 5,
   "metadata": {},
   "outputs": [
    {
     "name": "stderr",
     "output_type": "stream",
     "text": [
      "/Users/enrico.t/code/ml-reference-implementations/venv/lib/python2.7/site-packages/pandas_ml/confusion_matrix/stats.py:60: FutureWarning: supplying multiple axes to axis is deprecated and will be removed in a future version.\n",
      "  num = df[df > 1].dropna(axis=[0, 1], thresh=1).applymap(lambda n: choose(n, 2)).sum().sum() - np.float64(nis2 * njs2) / n2\n"
     ]
    },
    {
     "name": "stdout",
     "output_type": "stream",
     "text": [
      "Confusion Matrix:\n",
      "\n",
      "Predicted  bathroom  bedroom  garden  hallway  kitchen  office  __all__\n",
      "Actual                                                                 \n",
      "bathroom         86       13      21        8       11      10      149\n",
      "bedroom          16       99      19        7       17      13      171\n",
      "garden           13       20     111       11       15      17      187\n",
      "hallway           8       13      19       93        7      14      154\n",
      "kitchen          11       10      15        8       98      15      157\n",
      "office           21       12      19       13       15     102      182\n",
      "__all__         155      167     204      140      163     171     1000\n",
      "\n",
      "\n",
      "Overall Statistics:\n",
      "\n",
      "Accuracy: 0.589\n",
      "95% CI: (0.5577800523371332, 0.6196944130458899)\n",
      "No Information Rate: ToDo\n",
      "P-Value [Acc > NIR]: 1.7975596505681575e-155\n",
      "Kappa: 0.5059662686750159\n",
      "Mcnemar's Test P-Value: ToDo\n",
      "\n",
      "\n",
      "Class Statistics:\n",
      "\n",
      "Classes                                 bathroom    bedroom     garden  \\\n",
      "Population                                  1000       1000       1000   \n",
      "P: Condition positive                        149        171        187   \n",
      "N: Condition negative                        851        829        813   \n",
      "Test outcome positive                        155        167        204   \n",
      "Test outcome negative                        845        833        796   \n",
      "TP: True Positive                             86         99        111   \n",
      "TN: True Negative                            782        761        720   \n",
      "FP: False Positive                            69         68         93   \n",
      "FN: False Negative                            63         72         76   \n",
      "TPR: (Sensitivity, hit rate, recall)    0.577181   0.578947   0.593583   \n",
      "TNR=SPC: (Specificity)                  0.918919   0.917973   0.885609   \n",
      "PPV: Pos Pred Value (Precision)         0.554839   0.592814   0.544118   \n",
      "NPV: Neg Pred Value                     0.925444   0.913565   0.904523   \n",
      "FPR: False-out                         0.0810811  0.0820265   0.114391   \n",
      "FDR: False Discovery Rate               0.445161   0.407186   0.455882   \n",
      "FNR: Miss Rate                          0.422819   0.421053   0.406417   \n",
      "ACC: Accuracy                              0.868       0.86      0.831   \n",
      "F1 score                                0.565789   0.585799   0.567775   \n",
      "MCC: Matthews correlation coefficient   0.488127   0.501628   0.463664   \n",
      "Informedness                              0.4961   0.496921   0.479192   \n",
      "Markedness                              0.480282    0.50638    0.44864   \n",
      "Prevalence                                 0.149      0.171      0.187   \n",
      "LR+: Positive likelihood ratio           7.11857    7.05805    5.18906   \n",
      "LR-: Negative likelihood ratio          0.460126   0.458676   0.458913   \n",
      "DOR: Diagnostic odds ratio               15.4709    15.3879    11.3073   \n",
      "FOR: False omission rate               0.0745562  0.0864346  0.0954774   \n",
      "\n",
      "Classes                                  hallway    kitchen     office  \n",
      "Population                                  1000       1000       1000  \n",
      "P: Condition positive                        154        157        182  \n",
      "N: Condition negative                        846        843        818  \n",
      "Test outcome positive                        140        163        171  \n",
      "Test outcome negative                        860        837        829  \n",
      "TP: True Positive                             93         98        102  \n",
      "TN: True Negative                            799        778        749  \n",
      "FP: False Positive                            47         65         69  \n",
      "FN: False Negative                            61         59         80  \n",
      "TPR: (Sensitivity, hit rate, recall)    0.603896   0.624204    0.56044  \n",
      "TNR=SPC: (Specificity)                  0.944444   0.922894   0.915648  \n",
      "PPV: Pos Pred Value (Precision)         0.664286   0.601227   0.596491  \n",
      "NPV: Neg Pred Value                      0.92907    0.92951   0.903498  \n",
      "FPR: False-out                         0.0555556  0.0771056  0.0843521  \n",
      "FDR: False Discovery Rate               0.335714   0.398773   0.403509  \n",
      "FNR: Miss Rate                          0.396104   0.375796    0.43956  \n",
      "ACC: Accuracy                              0.892      0.876      0.851  \n",
      "F1 score                                0.632653     0.6125   0.577904  \n",
      "MCC: Matthews correlation coefficient   0.570404   0.538856   0.487892  \n",
      "Informedness                            0.548341   0.547098   0.476087  \n",
      "Markedness                              0.593355   0.530737   0.499989  \n",
      "Prevalence                                 0.154      0.157      0.182  \n",
      "LR+: Positive likelihood ratio           10.8701    8.09544    6.64405  \n",
      "LR-: Negative likelihood ratio          0.419404   0.407193   0.480054  \n",
      "DOR: Diagnostic odds ratio                25.918    19.8811    13.8402  \n",
      "FOR: False omission rate               0.0709302  0.0704898  0.0965018  \n"
     ]
    }
   ],
   "source": [
    "cm = ConfusionMatrix(y_test, y_predict)\n",
    "cm.print_stats()"
   ]
  },
  {
   "cell_type": "code",
   "execution_count": 6,
   "metadata": {},
   "outputs": [
    {
     "data": {
      "text/plain": [
       "<matplotlib.axes._subplots.AxesSubplot at 0x116099c10>"
      ]
     },
     "execution_count": 6,
     "metadata": {},
     "output_type": "execute_result"
    },
    {
     "data": {
      "image/png": "[encoded data removed]",
      "text/plain": [
       "<Figure size 648x576 with 2 Axes>"
      ]
     },
     "metadata": {
      "needs_background": "light"
     },
     "output_type": "display_data"
    }
   ],
   "source": [
    "cm.plot()"
   ]
  },
  {
   "cell_type": "code",
   "execution_count": null,
   "metadata": {},
   "outputs": [],
   "source": []
  }
 ],
 "metadata": {
  "kernelspec": {
   "display_name": "ml-reference-implementations",
   "language": "python",
   "name": "ml-reference-implementations"
  },
  "language_info": {
   "codemirror_mode": {
    "name": "ipython",
    "version": 2
   },
   "file_extension": ".py",
   "mimetype": "text/x-python",
   "name": "python",
   "nbconvert_exporter": "python",
   "pygments_lexer": "ipython2",
   "version": "2.7.15"
  }
 },
 "nbformat": 4,
 "nbformat_minor": 2
}
