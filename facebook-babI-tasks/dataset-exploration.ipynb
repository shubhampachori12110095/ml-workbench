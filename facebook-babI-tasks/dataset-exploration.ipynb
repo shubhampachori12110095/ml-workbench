{
 "cells": [
  {
   "cell_type": "code",
   "execution_count": 65,
   "metadata": {},
   "outputs": [],
   "source": [
    "import os\n",
    "import numpy as np\n",
    "import matplotlib.pyplot as plt\n",
    "%matplotlib inline\n",
    "\n",
    "from dataset_parsing import parse_data \n",
    "\n",
    "os.chdir(\"/Users/enrico.t/code/ml-reference-implementations\")\n",
    "facts, questions, answers, supporting_facts = parse_data()"
   ]
  },
  {
   "cell_type": "code",
   "execution_count": 66,
   "metadata": {},
   "outputs": [
    {
     "name": "stdout",
     "output_type": "stream",
     "text": [
      "{'8': 'Sandra journeyed to the garden.', '7': 'John journeyed to the bathroom.'}\n"
     ]
    }
   ],
   "source": [
    "print facts[12]"
   ]
  },
  {
   "cell_type": "code",
   "execution_count": 67,
   "metadata": {},
   "outputs": [
    {
     "name": "stdout",
     "output_type": "stream",
     "text": [
      "Where is John? \n"
     ]
    }
   ],
   "source": [
    "print questions[12]"
   ]
  },
  {
   "cell_type": "code",
   "execution_count": 68,
   "metadata": {},
   "outputs": [
    {
     "name": "stdout",
     "output_type": "stream",
     "text": [
      "bathroom\n"
     ]
    }
   ],
   "source": [
    "print answers[12]"
   ]
  },
  {
   "cell_type": "code",
   "execution_count": 69,
   "metadata": {},
   "outputs": [
    {
     "name": "stdout",
     "output_type": "stream",
     "text": [
      "John journeyed to the bathroom.\n"
     ]
    }
   ],
   "source": [
    "# how do we know the answer\n",
    "print facts[12][supporting_facts[12]]"
   ]
  },
  {
   "cell_type": "code",
   "execution_count": 70,
   "metadata": {},
   "outputs": [
    {
     "name": "stdout",
     "output_type": "stream",
     "text": [
      "1000\n"
     ]
    }
   ],
   "source": [
    "# how many stories are there in the training set?\n",
    "print len(facts)"
   ]
  },
  {
   "cell_type": "code",
   "execution_count": 71,
   "metadata": {},
   "outputs": [
    {
     "data": {
      "image/png": "[encoded data removed]",
      "text/plain": [
       "<Figure size 432x288 with 1 Axes>"
      ]
     },
     "metadata": {},
     "output_type": "display_data"
    }
   ],
   "source": [
    "# what is the distribution of facts per story?\n",
    "distribution_facts = list(map(lambda x: len(facts[x]), facts))\n",
    "plt.hist(distribution_facts)\n",
    "plt.show()"
   ]
  },
  {
   "cell_type": "code",
   "execution_count": 121,
   "metadata": {},
   "outputs": [
    {
     "data": {
      "image/png": "[encoded data removed]",
      "text/plain": [
       "<Figure size 432x288 with 1 Axes>"
      ]
     },
     "metadata": {},
     "output_type": "display_data"
    }
   ],
   "source": [
    "# what are the most common occuring words in the training set?\n",
    "from itertools import chain, imap\n",
    "\n",
    "from sklearn.feature_extraction.text import CountVectorizer\n",
    "vectorizer = CountVectorizer()\n",
    "\n",
    "# need to convert data from dicts to list of strings\n",
    "list_of_questions = list(\n",
    "    map(\n",
    "        lambda x: questions[x], \n",
    "        questions\n",
    "    ))\n",
    "\n",
    "list_of_answers = list(\n",
    "    map(\n",
    "        lambda x: answers[x], \n",
    "        answers\n",
    "    ))\n",
    "\n",
    "list_of_facts = list(chain.from_iterable(\n",
    "    (map(\n",
    "        lambda x: map(\n",
    "            lambda y: facts[x][y], \n",
    "            facts[x]), \n",
    "        facts\n",
    "    ))\n",
    "))\n",
    "\n",
    "all_words = list_of_questions + list_of_answers + list_of_facts\n",
    "vectorizer.fit(all_words)\n",
    "\n",
    "plt.bar(vectorizer.vocabulary_.keys(), vectorizer.vocabulary_.values())\n",
    "plt.xticks(rotation=60)\n",
    "plt.show()"
   ]
  },
  {
   "cell_type": "code",
   "execution_count": 122,
   "metadata": {},
   "outputs": [
    {
     "name": "stdout",
     "output_type": "stream",
     "text": [
      "19\n",
      "[u'hallway', u'garden', u'office', u'is', u'sandra', u'moved', u'back', u'bedroom', u'the', u'kitchen', u'bathroom', u'journeyed', u'travelled', u'to', u'daniel', u'went', u'john', u'where', u'mary']\n"
     ]
    }
   ],
   "source": [
    "# how many different words feature in the training set?\n",
    "print len(vectorizer.vocabulary_)\n",
    "print vectorizer.vocabulary_.keys()"
   ]
  },
  {
   "cell_type": "code",
   "execution_count": 128,
   "metadata": {},
   "outputs": [
    {
     "name": "stdout",
     "output_type": "stream",
     "text": [
      "avg question length:  15\n",
      "avg answer length:  6\n",
      "avg fact length:  29\n"
     ]
    }
   ],
   "source": [
    "print \"avg question length: \", sum(map(len, list_of_questions) ) / len(list_of_questions)\n",
    "print \"avg answer length: \", sum(map(len, list_of_answers) ) / len(list_of_answers)\n",
    "print \"avg fact length: \", sum(map(len, list_of_facts) ) / len(list_of_facts)"
   ]
  },
  {
   "cell_type": "code",
   "execution_count": 129,
   "metadata": {},
   "outputs": [
    {
     "name": "stdout",
     "output_type": "stream",
     "text": [
      "max question length:  17\n",
      "max answer length:  8\n",
      "max fact length:  33\n"
     ]
    }
   ],
   "source": [
    "print \"max question length: \", max(map(len, list_of_questions) )\n",
    "print \"max answer length: \", max(map(len, list_of_answers) )\n",
    "print \"max fact length: \", max(map(len, list_of_facts) )"
   ]
  },
  {
   "cell_type": "code",
   "execution_count": null,
   "metadata": {
    "collapsed": true
   },
   "outputs": [],
   "source": []
  }
 ],
 "metadata": {
  "kernelspec": {
   "display_name": "ml-reference-implementations",
   "language": "python",
   "name": "ml-reference-implementations"
  },
  "language_info": {
   "codemirror_mode": {
    "name": "ipython",
    "version": 2
   },
   "file_extension": ".py",
   "mimetype": "text/x-python",
   "name": "python",
   "nbconvert_exporter": "python",
   "pygments_lexer": "ipython2",
   "version": "2.7.15"
  }
 },
 "nbformat": 4,
 "nbformat_minor": 2
}
