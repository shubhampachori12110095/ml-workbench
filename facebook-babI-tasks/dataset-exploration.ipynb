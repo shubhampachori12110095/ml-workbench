{
 "cells": [
  {
   "cell_type": "code",
   "execution_count": 30,
   "metadata": {},
   "outputs": [
    {
     "name": "stdout",
     "output_type": "stream",
     "text": [
      "<class 'pandas.core.frame.DataFrame'>\n",
      "RangeIndex: 1000 entries, 0 to 999\n",
      "Data columns (total 4 columns):\n",
      "fact1       1000 non-null object\n",
      "fact2       1000 non-null object\n",
      "question    1000 non-null object\n",
      "answer      1000 non-null object\n",
      "dtypes: object(4)\n",
      "memory usage: 31.3+ KB\n"
     ]
    }
   ],
   "source": [
    "import os\n",
    "import matplotlib.pyplot as plt\n",
    "%matplotlib inline\n",
    "\n",
    "from parse_dataset import parse_data\n",
    "\n",
    "os.chdir(\"/Users/enrico.t/code/ml-reference-implementations\")\n",
    "df = parse_data('data/babI/tasks_1-20_v1-2/en/qa1_single-supporting-fact_train.txt')\n",
    "df.info()"
   ]
  },
  {
   "cell_type": "code",
   "execution_count": 28,
   "metadata": {},
   "outputs": [
    {
     "data": {
      "text/html": [
       "<div>\n",
       "<style scoped>\n",
       "    .dataframe tbody tr th:only-of-type {\n",
       "        vertical-align: middle;\n",
       "    }\n",
       "\n",
       "    .dataframe tbody tr th {\n",
       "        vertical-align: top;\n",
       "    }\n",
       "\n",
       "    .dataframe thead th {\n",
       "        text-align: right;\n",
       "    }\n",
       "</style>\n",
       "<table border=\"1\" class=\"dataframe\">\n",
       "  <thead>\n",
       "    <tr style=\"text-align: right;\">\n",
       "      <th></th>\n",
       "      <th>fact1</th>\n",
       "      <th>fact2</th>\n",
       "      <th>question</th>\n",
       "      <th>answer</th>\n",
       "    </tr>\n",
       "  </thead>\n",
       "  <tbody>\n",
       "    <tr>\n",
       "      <th>0</th>\n",
       "      <td>Mary moved to the bathroom.</td>\n",
       "      <td>John went to the hallway.</td>\n",
       "      <td>Where is Mary?</td>\n",
       "      <td>bathroom</td>\n",
       "    </tr>\n",
       "    <tr>\n",
       "      <th>1</th>\n",
       "      <td>Daniel went back to the hallway.</td>\n",
       "      <td>Sandra moved to the garden.</td>\n",
       "      <td>Where is Daniel?</td>\n",
       "      <td>hallway</td>\n",
       "    </tr>\n",
       "    <tr>\n",
       "      <th>2</th>\n",
       "      <td>John moved to the office.</td>\n",
       "      <td>Sandra journeyed to the bathroom.</td>\n",
       "      <td>Where is Daniel?</td>\n",
       "      <td>hallway</td>\n",
       "    </tr>\n",
       "    <tr>\n",
       "      <th>3</th>\n",
       "      <td>Mary moved to the hallway.</td>\n",
       "      <td>Daniel travelled to the office.</td>\n",
       "      <td>Where is Daniel?</td>\n",
       "      <td>office</td>\n",
       "    </tr>\n",
       "    <tr>\n",
       "      <th>4</th>\n",
       "      <td>John went back to the garden.</td>\n",
       "      <td>John moved to the bedroom.</td>\n",
       "      <td>Where is Sandra?</td>\n",
       "      <td>bathroom</td>\n",
       "    </tr>\n",
       "  </tbody>\n",
       "</table>\n",
       "</div>"
      ],
      "text/plain": [
       "                              fact1                              fact2  \\\n",
       "0       Mary moved to the bathroom.          John went to the hallway.   \n",
       "1  Daniel went back to the hallway.        Sandra moved to the garden.   \n",
       "2         John moved to the office.  Sandra journeyed to the bathroom.   \n",
       "3        Mary moved to the hallway.    Daniel travelled to the office.   \n",
       "4     John went back to the garden.         John moved to the bedroom.   \n",
       "\n",
       "            question    answer  \n",
       "0    Where is Mary?   bathroom  \n",
       "1  Where is Daniel?    hallway  \n",
       "2  Where is Daniel?    hallway  \n",
       "3  Where is Daniel?     office  \n",
       "4  Where is Sandra?   bathroom  "
      ]
     },
     "execution_count": 28,
     "metadata": {},
     "output_type": "execute_result"
    }
   ],
   "source": [
    "df.head()"
   ]
  },
  {
   "cell_type": "code",
   "execution_count": 27,
   "metadata": {},
   "outputs": [
    {
     "data": {
      "text/html": [
       "<div>\n",
       "<style scoped>\n",
       "    .dataframe tbody tr th:only-of-type {\n",
       "        vertical-align: middle;\n",
       "    }\n",
       "\n",
       "    .dataframe tbody tr th {\n",
       "        vertical-align: top;\n",
       "    }\n",
       "\n",
       "    .dataframe thead th {\n",
       "        text-align: right;\n",
       "    }\n",
       "</style>\n",
       "<table border=\"1\" class=\"dataframe\">\n",
       "  <thead>\n",
       "    <tr style=\"text-align: right;\">\n",
       "      <th></th>\n",
       "      <th>fact1</th>\n",
       "      <th>fact2</th>\n",
       "      <th>question</th>\n",
       "      <th>answer</th>\n",
       "    </tr>\n",
       "  </thead>\n",
       "  <tbody>\n",
       "    <tr>\n",
       "      <th>count</th>\n",
       "      <td>1000</td>\n",
       "      <td>1000</td>\n",
       "      <td>1000</td>\n",
       "      <td>1000</td>\n",
       "    </tr>\n",
       "    <tr>\n",
       "      <th>unique</th>\n",
       "      <td>120</td>\n",
       "      <td>120</td>\n",
       "      <td>4</td>\n",
       "      <td>6</td>\n",
       "    </tr>\n",
       "    <tr>\n",
       "      <th>top</th>\n",
       "      <td>Daniel went to the bedroom.</td>\n",
       "      <td>Sandra went to the office.</td>\n",
       "      <td>Where is Mary?</td>\n",
       "      <td>garden</td>\n",
       "    </tr>\n",
       "    <tr>\n",
       "      <th>freq</th>\n",
       "      <td>17</td>\n",
       "      <td>15</td>\n",
       "      <td>257</td>\n",
       "      <td>177</td>\n",
       "    </tr>\n",
       "  </tbody>\n",
       "</table>\n",
       "</div>"
      ],
      "text/plain": [
       "                              fact1                       fact2  \\\n",
       "count                          1000                        1000   \n",
       "unique                          120                         120   \n",
       "top     Daniel went to the bedroom.  Sandra went to the office.   \n",
       "freq                             17                          15   \n",
       "\n",
       "               question  answer  \n",
       "count              1000    1000  \n",
       "unique                4       6  \n",
       "top     Where is Mary?   garden  \n",
       "freq                257     177  "
      ]
     },
     "execution_count": 27,
     "metadata": {},
     "output_type": "execute_result"
    }
   ],
   "source": [
    "df.describe()"
   ]
  },
  {
   "cell_type": "code",
   "execution_count": 31,
   "metadata": {},
   "outputs": [
    {
     "data": {
      "text/html": [
       "<div>\n",
       "<style scoped>\n",
       "    .dataframe tbody tr th:only-of-type {\n",
       "        vertical-align: middle;\n",
       "    }\n",
       "\n",
       "    .dataframe tbody tr th {\n",
       "        vertical-align: top;\n",
       "    }\n",
       "\n",
       "    .dataframe thead tr th {\n",
       "        text-align: left;\n",
       "    }\n",
       "\n",
       "    .dataframe thead tr:last-of-type th {\n",
       "        text-align: right;\n",
       "    }\n",
       "</style>\n",
       "<table border=\"1\" class=\"dataframe\">\n",
       "  <thead>\n",
       "    <tr>\n",
       "      <th></th>\n",
       "      <th colspan=\"4\" halign=\"left\">fact1</th>\n",
       "      <th colspan=\"4\" halign=\"left\">fact2</th>\n",
       "      <th colspan=\"4\" halign=\"left\">question</th>\n",
       "    </tr>\n",
       "    <tr>\n",
       "      <th></th>\n",
       "      <th>count</th>\n",
       "      <th>unique</th>\n",
       "      <th>top</th>\n",
       "      <th>freq</th>\n",
       "      <th>count</th>\n",
       "      <th>unique</th>\n",
       "      <th>top</th>\n",
       "      <th>freq</th>\n",
       "      <th>count</th>\n",
       "      <th>unique</th>\n",
       "      <th>top</th>\n",
       "      <th>freq</th>\n",
       "    </tr>\n",
       "    <tr>\n",
       "      <th>answer</th>\n",
       "      <th></th>\n",
       "      <th></th>\n",
       "      <th></th>\n",
       "      <th></th>\n",
       "      <th></th>\n",
       "      <th></th>\n",
       "      <th></th>\n",
       "      <th></th>\n",
       "      <th></th>\n",
       "      <th></th>\n",
       "      <th></th>\n",
       "      <th></th>\n",
       "    </tr>\n",
       "  </thead>\n",
       "  <tbody>\n",
       "    <tr>\n",
       "      <th>bathroom</th>\n",
       "      <td>154</td>\n",
       "      <td>81</td>\n",
       "      <td>Mary moved to the bathroom.</td>\n",
       "      <td>6</td>\n",
       "      <td>154</td>\n",
       "      <td>70</td>\n",
       "      <td>Sandra travelled to the bathroom.</td>\n",
       "      <td>8</td>\n",
       "      <td>154</td>\n",
       "      <td>4</td>\n",
       "      <td>Where is Sandra?</td>\n",
       "      <td>42</td>\n",
       "    </tr>\n",
       "    <tr>\n",
       "      <th>bedroom</th>\n",
       "      <td>155</td>\n",
       "      <td>82</td>\n",
       "      <td>Mary went back to the bedroom.</td>\n",
       "      <td>6</td>\n",
       "      <td>155</td>\n",
       "      <td>74</td>\n",
       "      <td>Mary moved to the bedroom.</td>\n",
       "      <td>9</td>\n",
       "      <td>155</td>\n",
       "      <td>4</td>\n",
       "      <td>Where is Mary?</td>\n",
       "      <td>44</td>\n",
       "    </tr>\n",
       "    <tr>\n",
       "      <th>garden</th>\n",
       "      <td>177</td>\n",
       "      <td>85</td>\n",
       "      <td>John journeyed to the garden.</td>\n",
       "      <td>7</td>\n",
       "      <td>177</td>\n",
       "      <td>80</td>\n",
       "      <td>John travelled to the garden.</td>\n",
       "      <td>8</td>\n",
       "      <td>177</td>\n",
       "      <td>4</td>\n",
       "      <td>Where is Mary?</td>\n",
       "      <td>50</td>\n",
       "    </tr>\n",
       "    <tr>\n",
       "      <th>hallway</th>\n",
       "      <td>175</td>\n",
       "      <td>81</td>\n",
       "      <td>John went to the hallway.</td>\n",
       "      <td>6</td>\n",
       "      <td>175</td>\n",
       "      <td>72</td>\n",
       "      <td>Sandra went to the hallway.</td>\n",
       "      <td>8</td>\n",
       "      <td>175</td>\n",
       "      <td>4</td>\n",
       "      <td>Where is Mary?</td>\n",
       "      <td>50</td>\n",
       "    </tr>\n",
       "    <tr>\n",
       "      <th>kitchen</th>\n",
       "      <td>173</td>\n",
       "      <td>91</td>\n",
       "      <td>Mary went back to the kitchen.</td>\n",
       "      <td>7</td>\n",
       "      <td>173</td>\n",
       "      <td>69</td>\n",
       "      <td>Sandra went to the kitchen.</td>\n",
       "      <td>9</td>\n",
       "      <td>173</td>\n",
       "      <td>4</td>\n",
       "      <td>Where is John?</td>\n",
       "      <td>52</td>\n",
       "    </tr>\n",
       "    <tr>\n",
       "      <th>office</th>\n",
       "      <td>166</td>\n",
       "      <td>85</td>\n",
       "      <td>Mary went to the office.</td>\n",
       "      <td>6</td>\n",
       "      <td>166</td>\n",
       "      <td>69</td>\n",
       "      <td>Sandra went to the office.</td>\n",
       "      <td>13</td>\n",
       "      <td>166</td>\n",
       "      <td>4</td>\n",
       "      <td>Where is John?</td>\n",
       "      <td>46</td>\n",
       "    </tr>\n",
       "  </tbody>\n",
       "</table>\n",
       "</div>"
      ],
      "text/plain": [
       "         fact1                                             fact2         \\\n",
       "         count unique                             top freq count unique   \n",
       "answer                                                                    \n",
       "bathroom   154     81     Mary moved to the bathroom.    6   154     70   \n",
       "bedroom    155     82  Mary went back to the bedroom.    6   155     74   \n",
       "garden     177     85   John journeyed to the garden.    7   177     80   \n",
       "hallway    175     81       John went to the hallway.    6   175     72   \n",
       "kitchen    173     91  Mary went back to the kitchen.    7   173     69   \n",
       "office     166     85        Mary went to the office.    6   166     69   \n",
       "\n",
       "                                                 question         \\\n",
       "                                        top freq    count unique   \n",
       "answer                                                             \n",
       "bathroom  Sandra travelled to the bathroom.    8      154      4   \n",
       "bedroom          Mary moved to the bedroom.    9      155      4   \n",
       "garden        John travelled to the garden.    8      177      4   \n",
       "hallway         Sandra went to the hallway.    8      175      4   \n",
       "kitchen         Sandra went to the kitchen.    9      173      4   \n",
       "office           Sandra went to the office.   13      166      4   \n",
       "\n",
       "                                  \n",
       "                        top freq  \n",
       "answer                            \n",
       "bathroom  Where is Sandra?    42  \n",
       "bedroom     Where is Mary?    44  \n",
       "garden      Where is Mary?    50  \n",
       "hallway     Where is Mary?    50  \n",
       "kitchen     Where is John?    52  \n",
       "office      Where is John?    46  "
      ]
     },
     "execution_count": 31,
     "metadata": {},
     "output_type": "execute_result"
    }
   ],
   "source": [
    "df.groupby('answer').describe()"
   ]
  },
  {
   "cell_type": "code",
   "execution_count": 19,
   "metadata": {},
   "outputs": [
    {
     "data": {
      "image/png": "[encoded data removed]",
      "text/plain": [
       "<Figure size 432x288 with 1 Axes>"
      ]
     },
     "metadata": {
      "needs_background": "light"
     },
     "output_type": "display_data"
    }
   ],
   "source": [
    "# what are the most common occuring words in the training set?\n",
    "from itertools import chain\n",
    "\n",
    "from sklearn.feature_extraction.text import CountVectorizer\n",
    "vectorizer = CountVectorizer()\n",
    "\n",
    "all_text = df['fact1'].tolist() + df['fact2'].tolist() + df['question'].tolist() + df['answer'].tolist()\n",
    "vectorizer.fit(all_text)\n",
    "\n",
    "plt.bar(vectorizer.vocabulary_.keys(), vectorizer.vocabulary_.values())\n",
    "plt.xticks(rotation=60)\n",
    "plt.show()"
   ]
  },
  {
   "cell_type": "code",
   "execution_count": 41,
   "metadata": {},
   "outputs": [
    {
     "name": "stdout",
     "output_type": "stream",
     "text": [
      "19\n",
      "[u'hallway', u'garden', u'office', u'is', u'bedroom', u'moved', u'back', u'sandra', u'travelled', u'kitchen', u'bathroom', u'journeyed', u'the', u'to', u'daniel', u'went', u'john', u'where', u'mary']\n"
     ]
    }
   ],
   "source": [
    "# how many different words feature in the training set?\n",
    "print len(vectorizer.vocabulary_)\n",
    "print vectorizer.vocabulary_.keys()"
   ]
  },
  {
   "cell_type": "code",
   "execution_count": 42,
   "metadata": {},
   "outputs": [
    {
     "data": {
      "text/html": [
       "<div>\n",
       "<style scoped>\n",
       "    .dataframe tbody tr th:only-of-type {\n",
       "        vertical-align: middle;\n",
       "    }\n",
       "\n",
       "    .dataframe tbody tr th {\n",
       "        vertical-align: top;\n",
       "    }\n",
       "\n",
       "    .dataframe thead th {\n",
       "        text-align: right;\n",
       "    }\n",
       "</style>\n",
       "<table border=\"1\" class=\"dataframe\">\n",
       "  <thead>\n",
       "    <tr style=\"text-align: right;\">\n",
       "      <th></th>\n",
       "      <th>fact1</th>\n",
       "      <th>fact2</th>\n",
       "      <th>question</th>\n",
       "      <th>answer</th>\n",
       "      <th>question_length</th>\n",
       "      <th>answer_length</th>\n",
       "      <th>fact1_length</th>\n",
       "      <th>fact2_length</th>\n",
       "      <th>fact_length</th>\n",
       "    </tr>\n",
       "  </thead>\n",
       "  <tbody>\n",
       "    <tr>\n",
       "      <th>0</th>\n",
       "      <td>Mary moved to the bathroom.</td>\n",
       "      <td>John went to the hallway.</td>\n",
       "      <td>Where is Mary?</td>\n",
       "      <td>bathroom</td>\n",
       "      <td>15</td>\n",
       "      <td>8</td>\n",
       "      <td>27</td>\n",
       "      <td>25</td>\n",
       "      <td>NaN</td>\n",
       "    </tr>\n",
       "    <tr>\n",
       "      <th>1</th>\n",
       "      <td>Daniel went back to the hallway.</td>\n",
       "      <td>Sandra moved to the garden.</td>\n",
       "      <td>Where is Daniel?</td>\n",
       "      <td>hallway</td>\n",
       "      <td>17</td>\n",
       "      <td>7</td>\n",
       "      <td>32</td>\n",
       "      <td>27</td>\n",
       "      <td>NaN</td>\n",
       "    </tr>\n",
       "    <tr>\n",
       "      <th>2</th>\n",
       "      <td>John moved to the office.</td>\n",
       "      <td>Sandra journeyed to the bathroom.</td>\n",
       "      <td>Where is Daniel?</td>\n",
       "      <td>hallway</td>\n",
       "      <td>17</td>\n",
       "      <td>7</td>\n",
       "      <td>25</td>\n",
       "      <td>33</td>\n",
       "      <td>NaN</td>\n",
       "    </tr>\n",
       "    <tr>\n",
       "      <th>3</th>\n",
       "      <td>Mary moved to the hallway.</td>\n",
       "      <td>Daniel travelled to the office.</td>\n",
       "      <td>Where is Daniel?</td>\n",
       "      <td>office</td>\n",
       "      <td>17</td>\n",
       "      <td>6</td>\n",
       "      <td>26</td>\n",
       "      <td>31</td>\n",
       "      <td>NaN</td>\n",
       "    </tr>\n",
       "    <tr>\n",
       "      <th>4</th>\n",
       "      <td>John went back to the garden.</td>\n",
       "      <td>John moved to the bedroom.</td>\n",
       "      <td>Where is Sandra?</td>\n",
       "      <td>bathroom</td>\n",
       "      <td>17</td>\n",
       "      <td>8</td>\n",
       "      <td>29</td>\n",
       "      <td>26</td>\n",
       "      <td>NaN</td>\n",
       "    </tr>\n",
       "  </tbody>\n",
       "</table>\n",
       "</div>"
      ],
      "text/plain": [
       "                              fact1                              fact2  \\\n",
       "0       Mary moved to the bathroom.          John went to the hallway.   \n",
       "1  Daniel went back to the hallway.        Sandra moved to the garden.   \n",
       "2         John moved to the office.  Sandra journeyed to the bathroom.   \n",
       "3        Mary moved to the hallway.    Daniel travelled to the office.   \n",
       "4     John went back to the garden.         John moved to the bedroom.   \n",
       "\n",
       "            question    answer  question_length  answer_length  fact1_length  \\\n",
       "0    Where is Mary?   bathroom               15              8            27   \n",
       "1  Where is Daniel?    hallway               17              7            32   \n",
       "2  Where is Daniel?    hallway               17              7            25   \n",
       "3  Where is Daniel?     office               17              6            26   \n",
       "4  Where is Sandra?   bathroom               17              8            29   \n",
       "\n",
       "   fact2_length  fact_length  \n",
       "0            25          NaN  \n",
       "1            27          NaN  \n",
       "2            33          NaN  \n",
       "3            31          NaN  \n",
       "4            26          NaN  "
      ]
     },
     "execution_count": 42,
     "metadata": {},
     "output_type": "execute_result"
    }
   ],
   "source": [
    "df['question_length'] = df['question'].apply(len)\n",
    "df['answer_length'] = df['answer'].apply(len)\n",
    "df['fact1_length'] = df['fact1'].apply(len)\n",
    "df['fact2_length'] = df['fact2'].apply(len)\n",
    "df.head()"
   ]
  },
  {
   "cell_type": "code",
   "execution_count": 45,
   "metadata": {},
   "outputs": [
    {
     "data": {
      "text/plain": [
       "count                1000\n",
       "unique                  4\n",
       "top       Where is Mary? \n",
       "freq                  257\n",
       "Name: question, dtype: object"
      ]
     },
     "execution_count": 45,
     "metadata": {},
     "output_type": "execute_result"
    }
   ],
   "source": [
    "df['question'].describe()"
   ]
  },
  {
   "cell_type": "code",
   "execution_count": 33,
   "metadata": {},
   "outputs": [
    {
     "data": {
      "text/plain": [
       "count       1000\n",
       "unique         6\n",
       "top       garden\n",
       "freq         177\n",
       "Name: answer, dtype: object"
      ]
     },
     "execution_count": 33,
     "metadata": {},
     "output_type": "execute_result"
    }
   ],
   "source": [
    "df['answer'].describe()"
   ]
  },
  {
   "cell_type": "code",
   "execution_count": 34,
   "metadata": {},
   "outputs": [
    {
     "data": {
      "text/plain": [
       "count                            1000\n",
       "unique                            120\n",
       "top       Daniel went to the bedroom.\n",
       "freq                               17\n",
       "Name: fact1, dtype: object"
      ]
     },
     "execution_count": 34,
     "metadata": {},
     "output_type": "execute_result"
    }
   ],
   "source": [
    "df['fact1'].describe()"
   ]
  },
  {
   "cell_type": "code",
   "execution_count": 46,
   "metadata": {},
   "outputs": [
    {
     "data": {
      "text/plain": [
       "count    1000.000000\n",
       "mean       29.032000\n",
       "std         2.579463\n",
       "min        24.000000\n",
       "25%        27.000000\n",
       "50%        29.000000\n",
       "75%        31.000000\n",
       "max        33.000000\n",
       "Name: fact1_length, dtype: float64"
      ]
     },
     "execution_count": 46,
     "metadata": {},
     "output_type": "execute_result"
    }
   ],
   "source": [
    "df['fact1_length'].describe()"
   ]
  },
  {
   "cell_type": "code",
   "execution_count": 47,
   "metadata": {},
   "outputs": [
    {
     "data": {
      "text/plain": [
       "count    1000.000000\n",
       "mean       28.999000\n",
       "std         2.541153\n",
       "min        24.000000\n",
       "25%        27.000000\n",
       "50%        29.000000\n",
       "75%        31.000000\n",
       "max        33.000000\n",
       "Name: fact2_length, dtype: float64"
      ]
     },
     "execution_count": 47,
     "metadata": {},
     "output_type": "execute_result"
    }
   ],
   "source": [
    "df['fact2_length'].describe()"
   ]
  },
  {
   "cell_type": "code",
   "execution_count": null,
   "metadata": {},
   "outputs": [],
   "source": []
  }
 ],
 "metadata": {
  "kernelspec": {
   "display_name": "ml-reference-implementations",
   "language": "python",
   "name": "ml-reference-implementations"
  },
  "language_info": {
   "codemirror_mode": {
    "name": "ipython",
    "version": 2
   },
   "file_extension": ".py",
   "mimetype": "text/x-python",
   "name": "python",
   "nbconvert_exporter": "python",
   "pygments_lexer": "ipython2",
   "version": "2.7.15"
  }
 },
 "nbformat": 4,
 "nbformat_minor": 2
}
