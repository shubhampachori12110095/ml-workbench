{
 "cells": [
  {
   "cell_type": "code",
   "execution_count": 408,
   "metadata": {},
   "outputs": [],
   "source": [
    "import numpy as np\n",
    "\n",
    "class MeanEmbeddingVectorizer(object):\n",
    "    def __init__(self, word2vec):\n",
    "        self.word2vec = word2vec\n",
    "        self.dim = len(word2vec.itervalues().next())\n",
    "    \n",
    "    def fit(self, X, y):\n",
    "        return self \n",
    "\n",
    "    def transform(self, X):\n",
    "        return np.array([\n",
    "            np.mean([self.word2vec[w] for w in words if w in self.word2vec] \n",
    "                    or [np.zeros(self.dim)], axis=0)\n",
    "            for words in X\n",
    "        ])"
   ]
  },
  {
   "cell_type": "code",
   "execution_count": 409,
   "metadata": {},
   "outputs": [],
   "source": [
    "import pandas as pd\n",
    "from parse_dataset import parse_data\n",
    "\n",
    "df_train = parse_data('/Users/enrico.t/code/ml-reference-implementations/data/babI/tasks_1-20_v1-2/en/qa1_single-supporting-fact_train.txt')\n",
    "X_train = df_train['fact1'] + ' ' + df_train['fact2'] + ' ' + df_train['question']\n",
    "y_train = df_train['answer']\n",
    "\n",
    "df_test = parse_data('/Users/enrico.t/code/ml-reference-implementations/data/babI/tasks_1-20_v1-2/en/qa1_single-supporting-fact_test.txt')\n",
    "X_test = df_test['fact1'] + ' ' + df_test['fact2'] + ' ' + df_test['question']\n",
    "y_test = df_test['answer']"
   ]
  },
  {
   "cell_type": "code",
   "execution_count": 410,
   "metadata": {},
   "outputs": [],
   "source": [
    "list_of_sentences = df_train[['fact1', 'fact2', 'question']].values\n",
    "tokenised_sentences = reduce(\n",
    "    lambda acc, doc: acc + [word_tokenize(sent) for sent in doc], \n",
    "    list_of_sentences, [])"
   ]
  },
  {
   "cell_type": "code",
   "execution_count": 411,
   "metadata": {},
   "outputs": [
    {
     "name": "stdout",
     "output_type": "stream",
     "text": [
      "Word2Vec(vocab=21, size=100, alpha=0.1)\n",
      "['Mary', 'hallway', 'bathroom', 'journeyed', 'office', 'the', 'is', 'bedroom', 'moved', 'back', '.', 'to', 'Daniel', 'garden', 'Sandra', 'travelled', 'John', 'Where', 'went', '?', 'kitchen']\n"
     ]
    }
   ],
   "source": [
    "from gensim.models import Word2Vec\n",
    "from nltk.tokenize import word_tokenize\n",
    "\n",
    "model = Word2Vec(tokenised_sentences, iter=5, alpha=0.1, size=100)\n",
    "w2v = dict(zip(model.wv.index2word, model.wv.vectors))\n",
    "\n",
    "print(model)\n",
    "print(model.wv.vocab.keys())"
   ]
  },
  {
   "cell_type": "code",
   "execution_count": 412,
   "metadata": {},
   "outputs": [
    {
     "data": {
      "text/plain": [
       "[('Sandra', 0.9810729026794434),\n",
       " ('Daniel', 0.961772084236145),\n",
       " ('Mary', 0.9472049474716187),\n",
       " ('is', 0.6233294010162354),\n",
       " ('travelled', 0.56789231300354),\n",
       " ('to', 0.5455714464187622),\n",
       " ('.', 0.5206953287124634),\n",
       " ('moved', 0.5089603662490845),\n",
       " ('journeyed', 0.508916974067688),\n",
       " ('back', 0.5008315443992615)]"
      ]
     },
     "execution_count": 412,
     "metadata": {},
     "output_type": "execute_result"
    }
   ],
   "source": [
    "model.wv.most_similar('John')"
   ]
  },
  {
   "cell_type": "code",
   "execution_count": 413,
   "metadata": {},
   "outputs": [
    {
     "data": {
      "text/plain": [
       "[('office', 0.9891893267631531),\n",
       " ('bedroom', 0.9875427484512329),\n",
       " ('bathroom', 0.9855877161026001),\n",
       " ('hallway', 0.9842265844345093),\n",
       " ('garden', 0.9737095832824707),\n",
       " ('back', 0.9411276578903198),\n",
       " ('to', 0.9333966970443726),\n",
       " ('the', 0.8643811941146851),\n",
       " ('moved', 0.8631339073181152),\n",
       " ('travelled', 0.7947424054145813)]"
      ]
     },
     "execution_count": 413,
     "metadata": {},
     "output_type": "execute_result"
    }
   ],
   "source": [
    "model.wv.most_similar('kitchen')"
   ]
  },
  {
   "cell_type": "code",
   "execution_count": 414,
   "metadata": {
    "scrolled": false
   },
   "outputs": [],
   "source": [
    "\"\"\"\n",
    "PLAN (BabI task 1)\n",
    "\n",
    "given input:\n",
    "- fact 1   | John travelled to the hallway.\n",
    "- fact 2   | Mary journeyed to the bathroom.\n",
    "- question | Where is John?\n",
    "\n",
    "output:\n",
    "- answer   | hallway\n",
    "\"\"\"\n",
    "\n",
    "from sklearn.pipeline import Pipeline\n",
    "from sklearn.svm import SVC\n",
    "    \n",
    "model = Pipeline([\n",
    "    ('w2v', MeanEmbeddingVectorizer(w2v)),\n",
    "    ('clf', SVC(kernel='linear')),\n",
    "])\n",
    "\n",
    "model.fit(X_train, y_train)\n",
    "y_predict = model.predict(X_test)"
   ]
  },
  {
   "cell_type": "code",
   "execution_count": 415,
   "metadata": {
    "scrolled": true
   },
   "outputs": [
    {
     "name": "stdout",
     "output_type": "stream",
     "text": [
      "Confusion Matrix:\n",
      "\n",
      "Predicted  bathroom  bedroom  garden  hallway  kitchen  office  __all__\n",
      "Actual                                                                 \n",
      "bathroom          0        0     149        0        0       0      149\n",
      "bedroom           0        0     171        0        0       0      171\n",
      "garden            0        0     187        0        0       0      187\n",
      "hallway           0        0     154        0        0       0      154\n",
      "kitchen           0        0     157        0        0       0      157\n",
      "office            0        0     182        0        0       0      182\n",
      "__all__           0        0    1000        0        0       0     1000\n",
      "\n",
      "\n",
      "Overall Statistics:\n",
      "\n",
      "Accuracy: 0.187\n",
      "95% CI: (0.16328321992459802, 0.21257507953143617)\n",
      "No Information Rate: ToDo\n",
      "P-Value [Acc > NIR]: 1.0\n",
      "Kappa: 0.0\n",
      "Mcnemar's Test P-Value: ToDo\n",
      "\n",
      "\n",
      "Class Statistics:\n",
      "\n",
      "Classes                               bathroom bedroom   garden hallway  \\\n",
      "Population                                1000    1000     1000    1000   \n",
      "P: Condition positive                      149     171      187     154   \n",
      "N: Condition negative                      851     829      813     846   \n",
      "Test outcome positive                        0       0     1000       0   \n",
      "Test outcome negative                     1000    1000        0    1000   \n",
      "TP: True Positive                            0       0      187       0   \n",
      "TN: True Negative                          851     829        0     846   \n",
      "FP: False Positive                           0       0      813       0   \n",
      "FN: False Negative                         149     171        0     154   \n",
      "TPR: (Sensitivity, hit rate, recall)         0       0        1       0   \n",
      "TNR=SPC: (Specificity)                       1       1        0       1   \n",
      "PPV: Pos Pred Value (Precision)            NaN     NaN    0.187     NaN   \n",
      "NPV: Neg Pred Value                      0.851   0.829      NaN   0.846   \n",
      "FPR: False-out                               0       0        1       0   \n",
      "FDR: False Discovery Rate                  NaN     NaN    0.813     NaN   \n",
      "FNR: Miss Rate                               1       1        0       1   \n",
      "ACC: Accuracy                            0.851   0.829    0.187   0.846   \n",
      "F1 score                                     0       0  0.31508       0   \n",
      "MCC: Matthews correlation coefficient      NaN     NaN      NaN     NaN   \n",
      "Informedness                                 0       0        0       0   \n",
      "Markedness                                 NaN     NaN      NaN     NaN   \n",
      "Prevalence                               0.149   0.171    0.187   0.154   \n",
      "LR+: Positive likelihood ratio             NaN     NaN        1     NaN   \n",
      "LR-: Negative likelihood ratio               1       1      NaN       1   \n",
      "DOR: Diagnostic odds ratio                 NaN     NaN      NaN     NaN   \n",
      "FOR: False omission rate                 0.149   0.171      NaN   0.154   \n",
      "\n",
      "Classes                               kitchen office  \n",
      "Population                               1000   1000  \n",
      "P: Condition positive                     157    182  \n",
      "N: Condition negative                     843    818  \n",
      "Test outcome positive                       0      0  \n",
      "Test outcome negative                    1000   1000  \n",
      "TP: True Positive                           0      0  \n",
      "TN: True Negative                         843    818  \n",
      "FP: False Positive                          0      0  \n",
      "FN: False Negative                        157    182  \n",
      "TPR: (Sensitivity, hit rate, recall)        0      0  \n",
      "TNR=SPC: (Specificity)                      1      1  \n",
      "PPV: Pos Pred Value (Precision)           NaN    NaN  \n",
      "NPV: Neg Pred Value                     0.843  0.818  \n",
      "FPR: False-out                              0      0  \n",
      "FDR: False Discovery Rate                 NaN    NaN  \n",
      "FNR: Miss Rate                              1      1  \n",
      "ACC: Accuracy                           0.843  0.818  \n",
      "F1 score                                    0      0  \n",
      "MCC: Matthews correlation coefficient     NaN    NaN  \n",
      "Informedness                                0      0  \n",
      "Markedness                                NaN    NaN  \n",
      "Prevalence                              0.157  0.182  \n",
      "LR+: Positive likelihood ratio            NaN    NaN  \n",
      "LR-: Negative likelihood ratio              1      1  \n",
      "DOR: Diagnostic odds ratio                NaN    NaN  \n",
      "FOR: False omission rate                0.157  0.182  \n"
     ]
    }
   ],
   "source": [
    "from pandas_ml import ConfusionMatrix\n",
    "\n",
    "cm = ConfusionMatrix(y_test, y_predict)\n",
    "cm.print_stats()"
   ]
  },
  {
   "cell_type": "code",
   "execution_count": 416,
   "metadata": {},
   "outputs": [
    {
     "data": {
      "text/plain": [
       "<matplotlib.axes._subplots.AxesSubplot at 0x11d102050>"
      ]
     },
     "execution_count": 416,
     "metadata": {},
     "output_type": "execute_result"
    },
    {
     "data": {
      "image/png": "[encoded data removed]",
      "text/plain": [
       "<Figure size 648x576 with 2 Axes>"
      ]
     },
     "metadata": {
      "needs_background": "light"
     },
     "output_type": "display_data"
    }
   ],
   "source": [
    "cm.plot()"
   ]
  }
 ],
 "metadata": {
  "kernelspec": {
   "display_name": "ml-reference-implementations",
   "language": "python",
   "name": "ml-reference-implementations"
  },
  "language_info": {
   "codemirror_mode": {
    "name": "ipython",
    "version": 2
   },
   "file_extension": ".py",
   "mimetype": "text/x-python",
   "name": "python",
   "nbconvert_exporter": "python",
   "pygments_lexer": "ipython2",
   "version": "2.7.15"
  }
 },
 "nbformat": 4,
 "nbformat_minor": 2
}
