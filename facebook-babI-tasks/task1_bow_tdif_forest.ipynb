{
 "cells": [
  {
   "cell_type": "code",
   "execution_count": 13,
   "metadata": {},
   "outputs": [
    {
     "name": "stdout",
     "output_type": "stream",
     "text": [
      "Fitting 5 folds for each of 24 candidates, totalling 120 fits\n"
     ]
    },
    {
     "name": "stderr",
     "output_type": "stream",
     "text": [
      "[Parallel(n_jobs=-1)]: Using backend LokyBackend with 4 concurrent workers.\n",
      "[Parallel(n_jobs=-1)]: Done  42 tasks      | elapsed:   11.3s\n",
      "[Parallel(n_jobs=-1)]: Done 120 out of 120 | elapsed:   30.2s finished\n",
      "/Users/enrico.t/code/ml-reference-implementations/venv/lib/python2.7/site-packages/sklearn/model_selection/_search.py:841: DeprecationWarning: The default of the `iid` parameter will change from True to False in version 0.22 and will be removed in 0.24. This will change numeric results when test-set sizes are unequal.\n",
      "  DeprecationWarning)\n"
     ]
    },
    {
     "name": "stdout",
     "output_type": "stream",
     "text": [
      "{'clf__criterion': 'entropy', 'clf__n_estimators': 200, 'bow__stop_words': None}\n"
     ]
    }
   ],
   "source": [
    "\"\"\"\n",
    "PLAN (BabI task 1)\n",
    "\n",
    "given input:\n",
    "- fact 1   | John travelled to the hallway.\n",
    "- fact 2   | Mary journeyed to the bathroom.\n",
    "- question | Where is John?\n",
    "\n",
    "output:\n",
    "- answer   | hallway\n",
    "\"\"\"\n",
    "\n",
    "from sklearn.feature_extraction.text import CountVectorizer\n",
    "from sklearn.feature_extraction.text import TfidfTransformer\n",
    "from sklearn.model_selection import GridSearchCV\n",
    "from sklearn.pipeline import Pipeline\n",
    "from sklearn.ensemble import RandomForestClassifier\n",
    "from sklearn.ensemble import ExtraTreesClassifier\n",
    "\n",
    "pipeline = Pipeline([\n",
    "    ('bow', CountVectorizer()),\n",
    "    ('tfidf', TfidfTransformer()),\n",
    "    ('clf', ExtraTreesClassifier()),\n",
    "#     ('clf', RandomForestClassifier()),\n",
    "])\n",
    "\n",
    "parameters = {\n",
    "    'bow__stop_words': ['english', None],\n",
    "    'clf__n_estimators': [10, 50, 100, 200],\n",
    "    'clf__criterion': ['gini', 'entropy'],\n",
    "#     'clf__max_depth': range(1, 20),\n",
    "#     'clf__max_features': range(1, 20),\n",
    "}\n",
    "\n",
    "import pandas as pd\n",
    "from parse_dataset import parse_data\n",
    "\n",
    "df_train = parse_data('/Users/enrico.t/code/ml-reference-implementations/data/babI/tasks_1-20_v1-2/en/qa1_single-supporting-fact_train.txt')\n",
    "X_train = df_train['fact1'] + ' ' + df_train['fact2'] + ' ' + df_train['question']\n",
    "y_train = df_train['answer']\n",
    "\n",
    "df_test = parse_data('/Users/enrico.t/code/ml-reference-implementations/data/babI/tasks_1-20_v1-2/en/qa1_single-supporting-fact_train.txt')\n",
    "X_test = df_test['fact1'] + ' ' + df_test['fact2'] + ' ' + df_test['question']\n",
    "y_test = df_test['answer']\n",
    "\n",
    "model = GridSearchCV(\n",
    "    pipeline, \n",
    "    parameters, \n",
    "    cv=5,\n",
    "    n_jobs=-1, \n",
    "    verbose=1\n",
    ")\n",
    "model.fit(X_train, y_train)\n",
    "y_predict = model.predict(X_test)\n",
    "\n",
    "print model.best_params_"
   ]
  },
  {
   "cell_type": "code",
   "execution_count": 14,
   "metadata": {
    "scrolled": false
   },
   "outputs": [
    {
     "name": "stdout",
     "output_type": "stream",
     "text": [
      "Confusion Matrix:\n",
      "\n",
      "Predicted  bathroom  bedroom  garden  hallway  kitchen  office  __all__\n",
      "Actual                                                                 \n",
      "bathroom        153        0       1        0        0       0      154\n",
      "bedroom           2      151       0        0        1       1      155\n",
      "garden            6        3     168        0        0       0      177\n",
      "hallway           3        5       4      163        0       0      175\n",
      "kitchen           1        3       4        3      162       0      173\n",
      "office            2        1       4        3        2     154      166\n",
      "__all__         167      163     181      169      165     155     1000\n",
      "\n",
      "\n",
      "Overall Statistics:\n",
      "\n",
      "Accuracy: 0.951\n",
      "95% CI: (0.9357339468598277, 0.9635329408279537)\n",
      "No Information Rate: ToDo\n",
      "P-Value [Acc > NIR]: 0.0\n",
      "Kappa: 0.9411856492984287\n",
      "Mcnemar's Test P-Value: ToDo\n",
      "\n",
      "\n",
      "Class Statistics:\n",
      "\n",
      "Classes                                  bathroom     bedroom     garden  \\\n",
      "Population                                   1000        1000       1000   \n",
      "P: Condition positive                         154         155        177   \n",
      "N: Condition negative                         846         845        823   \n",
      "Test outcome positive                         167         163        181   \n",
      "Test outcome negative                         833         837        819   \n",
      "TP: True Positive                             153         151        168   \n",
      "TN: True Negative                             832         833        810   \n",
      "FP: False Positive                             14          12         13   \n",
      "FN: False Negative                              1           4          9   \n",
      "TPR: (Sensitivity, hit rate, recall)     0.993506    0.974194   0.949153   \n",
      "TNR=SPC: (Specificity)                   0.983452    0.985799   0.984204   \n",
      "PPV: Pos Pred Value (Precision)          0.916168     0.92638   0.928177   \n",
      "NPV: Neg Pred Value                        0.9988    0.995221   0.989011   \n",
      "FPR: False-out                          0.0165485   0.0142012  0.0157959   \n",
      "FDR: False Discovery Rate               0.0838323   0.0736196  0.0718232   \n",
      "FNR: Miss Rate                         0.00649351   0.0258065  0.0508475   \n",
      "ACC: Accuracy                               0.985       0.984      0.978   \n",
      "F1 score                                 0.953271    0.949686   0.938547   \n",
      "MCC: Matthews correlation coefficient    0.945455    0.940601   0.925237   \n",
      "Informedness                             0.976958    0.959992   0.933357   \n",
      "Markedness                               0.914967    0.921601   0.917188   \n",
      "Prevalence                                  0.154       0.155      0.177   \n",
      "LR+: Positive likelihood ratio            60.0362     68.5995    60.0887   \n",
      "LR-: Negative likelihood ratio         0.00660277   0.0261782  0.0516635   \n",
      "DOR: Diagnostic odds ratio                9092.57     2620.48    1163.08   \n",
      "FOR: False omission rate               0.00120048  0.00477897   0.010989   \n",
      "\n",
      "Classes                                   hallway     kitchen      office  \n",
      "Population                                   1000        1000        1000  \n",
      "P: Condition positive                         175         173         166  \n",
      "N: Condition negative                         825         827         834  \n",
      "Test outcome positive                         169         165         155  \n",
      "Test outcome negative                         831         835         845  \n",
      "TP: True Positive                             163         162         154  \n",
      "TN: True Negative                             819         824         833  \n",
      "FP: False Positive                              6           3           1  \n",
      "FN: False Negative                             12          11          12  \n",
      "TPR: (Sensitivity, hit rate, recall)     0.931429    0.936416    0.927711  \n",
      "TNR=SPC: (Specificity)                   0.992727    0.996372    0.998801  \n",
      "PPV: Pos Pred Value (Precision)          0.964497    0.981818    0.993548  \n",
      "NPV: Neg Pred Value                       0.98556    0.986826    0.985799  \n",
      "FPR: False-out                         0.00727273  0.00362757  0.00119904  \n",
      "FDR: False Discovery Rate                0.035503   0.0181818  0.00645161  \n",
      "FNR: Miss Rate                          0.0685714   0.0635838   0.0722892  \n",
      "ACC: Accuracy                               0.982       0.986       0.987  \n",
      "F1 score                                 0.947674     0.95858    0.959502  \n",
      "MCC: Matthews correlation coefficient    0.937017    0.950548    0.952563  \n",
      "Informedness                             0.924156    0.932789    0.926512  \n",
      "Markedness                               0.950057    0.968645    0.979347  \n",
      "Prevalence                                  0.175       0.173       0.166  \n",
      "LR+: Positive likelihood ratio            128.071     258.139     773.711  \n",
      "LR-: Negative likelihood ratio          0.0690738   0.0638153   0.0723759  \n",
      "DOR: Diagnostic odds ratio                1854.12     4045.09     10690.2  \n",
      "FOR: False omission rate                0.0144404   0.0131737   0.0142012  \n",
      "AxesSubplot(0.125,0.125;0.62x0.755)\n"
     ]
    },
    {
     "data": {
      "image/png": "[encoded data removed]",
      "text/plain": [
       "<Figure size 648x576 with 2 Axes>"
      ]
     },
     "metadata": {
      "needs_background": "light"
     },
     "output_type": "display_data"
    }
   ],
   "source": [
    "from pandas_ml import ConfusionMatrix\n",
    "\n",
    "cm = ConfusionMatrix(y_test, y_predict)\n",
    "cm.print_stats()\n",
    "print cm.plot()"
   ]
  },
  {
   "cell_type": "code",
   "execution_count": null,
   "metadata": {},
   "outputs": [],
   "source": []
  }
 ],
 "metadata": {
  "kernelspec": {
   "display_name": "ml-reference-implementations",
   "language": "python",
   "name": "ml-reference-implementations"
  },
  "language_info": {
   "codemirror_mode": {
    "name": "ipython",
    "version": 2
   },
   "file_extension": ".py",
   "mimetype": "text/x-python",
   "name": "python",
   "nbconvert_exporter": "python",
   "pygments_lexer": "ipython2",
   "version": "2.7.15"
  }
 },
 "nbformat": 4,
 "nbformat_minor": 2
}
