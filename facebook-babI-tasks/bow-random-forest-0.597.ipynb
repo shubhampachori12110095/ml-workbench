{
 "cells": [
  {
   "cell_type": "code",
   "execution_count": 4,
   "metadata": {},
   "outputs": [],
   "source": [
    "import os\n",
    "import pandas as pd\n",
    "import matplotlib.pyplot as plt\n",
    "from parse_dataset import parse_data\n",
    "%matplotlib inline\n",
    "\n",
    "os.chdir(\"/Users/enrico.t/code/ml-reference-implementations\")\n",
    "df = parse_data('data/babI/tasks_1-20_v1-2/en/qa1_single-supporting-fact_train.txt')"
   ]
  },
  {
   "cell_type": "code",
   "execution_count": 5,
   "metadata": {},
   "outputs": [],
   "source": [
    "from sklearn.feature_extraction.text import CountVectorizer\n",
    "vectorizer = CountVectorizer(stop_words=['is', 'the', 'to', 'where'])\n",
    "corpus = df['fact1'].tolist() + df['fact2'].tolist() + df['question'].tolist() + df['answer'].tolist()\n",
    "vectorizer.fit(corpus)\n",
    "\n",
    "y_train = df['answer']\n",
    "X_train = pd.concat([\n",
    "        pd.DataFrame(vectorizer.transform(df['fact1']).todense(), columns=vectorizer.get_feature_names()), \n",
    "        pd.DataFrame(vectorizer.transform(df['fact2']).todense(), columns=vectorizer.get_feature_names()), \n",
    "        pd.DataFrame(vectorizer.transform(df['question']).todense(), columns=vectorizer.get_feature_names())\n",
    "    ], \n",
    "    axis=1)\n",
    "\n",
    "df_test = parse_data('data/babI/tasks_1-20_v1-2/en/qa1_single-supporting-fact_test.txt')\n",
    "\n",
    "y_test = df_test['answer']\n",
    "X_test = pd.concat([\n",
    "        pd.DataFrame(vectorizer.transform(df_test['fact1']).todense(), columns=vectorizer.get_feature_names()), \n",
    "        pd.DataFrame(vectorizer.transform(df_test['fact2']).todense(), columns=vectorizer.get_feature_names()), \n",
    "        pd.DataFrame(vectorizer.transform(df_test['question']).todense(), columns=vectorizer.get_feature_names())\n",
    "    ], \n",
    "    axis=1)"
   ]
  },
  {
   "cell_type": "code",
   "execution_count": 35,
   "metadata": {},
   "outputs": [
    {
     "name": "stderr",
     "output_type": "stream",
     "text": [
      "/Users/enrico.t/code/ml-reference-implementations/venv/lib/python2.7/site-packages/sklearn/model_selection/_search.py:841: DeprecationWarning: The default of the `iid` parameter will change from True to False in version 0.22 and will be removed in 0.24. This will change numeric results when test-set sizes are unequal.\n",
      "  DeprecationWarning)\n"
     ]
    },
    {
     "data": {
      "text/plain": [
       "{'cv': 5,\n",
       " 'error_score': 'raise-deprecating',\n",
       " 'estimator': RandomForestClassifier(bootstrap=True, class_weight=None, criterion='gini',\n",
       "             max_depth=None, max_features='auto', max_leaf_nodes=None,\n",
       "             min_impurity_decrease=0.0, min_impurity_split=None,\n",
       "             min_samples_leaf=1, min_samples_split=2,\n",
       "             min_weight_fraction_leaf=0.0, n_estimators='warn', n_jobs=None,\n",
       "             oob_score=False, random_state=42, verbose=0, warm_start=False),\n",
       " 'estimator__bootstrap': True,\n",
       " 'estimator__class_weight': None,\n",
       " 'estimator__criterion': 'gini',\n",
       " 'estimator__max_depth': None,\n",
       " 'estimator__max_features': 'auto',\n",
       " 'estimator__max_leaf_nodes': None,\n",
       " 'estimator__min_impurity_decrease': 0.0,\n",
       " 'estimator__min_impurity_split': None,\n",
       " 'estimator__min_samples_leaf': 1,\n",
       " 'estimator__min_samples_split': 2,\n",
       " 'estimator__min_weight_fraction_leaf': 0.0,\n",
       " 'estimator__n_estimators': 'warn',\n",
       " 'estimator__n_jobs': None,\n",
       " 'estimator__oob_score': False,\n",
       " 'estimator__random_state': 42,\n",
       " 'estimator__verbose': 0,\n",
       " 'estimator__warm_start': False,\n",
       " 'fit_params': None,\n",
       " 'iid': 'warn',\n",
       " 'n_jobs': None,\n",
       " 'param_grid': {'criterion': ['entropy', 'gini'],\n",
       "  'max_depth': [5, 10, 20],\n",
       "  'max_features': [5, 10, 20, 40, 'sqrt', 'log2', None],\n",
       "  'n_estimators': [10, 100]},\n",
       " 'pre_dispatch': '2*n_jobs',\n",
       " 'refit': True,\n",
       " 'return_train_score': 'warn',\n",
       " 'scoring': None,\n",
       " 'verbose': 0}"
      ]
     },
     "execution_count": 35,
     "metadata": {},
     "output_type": "execute_result"
    }
   ],
   "source": [
    "from sklearn.ensemble import RandomForestClassifier\n",
    "from sklearn.model_selection import GridSearchCV\n",
    "\n",
    "parameter_grid = { \n",
    "    'n_estimators': [10, 100],    \n",
    "    'max_depth': [5, 10, 20], \n",
    "    'max_features': [5, 10, 20, 40] + ['sqrt', 'log2', None],\n",
    "    'criterion': ['entropy', 'gini'],\n",
    "    # 'min_samples_split': range(2,10),\n",
    "    # 'min_samples_leaf': range(1,10),\n",
    "    # 'max_leaf_nodes': range(2,10) + [None],\n",
    "}\n",
    "\n",
    "gs = GridSearchCV(\n",
    "    RandomForestClassifier(),\n",
    "    param_grid=parameter_grid,\n",
    "    cv=5\n",
    ")\n",
    "\n",
    "gs.fit(X_train, y_train)"
   ]
  },
  {
   "cell_type": "code",
   "execution_count": 36,
   "metadata": {},
   "outputs": [
    {
     "name": "stdout",
     "output_type": "stream",
     "text": [
      "0.597\n"
     ]
    }
   ],
   "source": [
    "from pandas_ml import ConfusionMatrix\n",
    "\n",
    "print gs.score(X=X_test, y=y_test)\n",
    "\n",
    "y_predict = gs.predict(X_test)"
   ]
  },
  {
   "cell_type": "code",
   "execution_count": 37,
   "metadata": {},
   "outputs": [
    {
     "name": "stdout",
     "output_type": "stream",
     "text": [
      "Confusion Matrix:\n",
      "\n",
      "Predicted  bathroom  bedroom  garden  hallway  kitchen  office  __all__\n",
      "Actual                                                                 \n",
      "bathroom         90       13      18        8       11       9      149\n",
      "bedroom          16      101      15        9       15      15      171\n",
      "garden           11       21     113       10       16      16      187\n",
      "hallway          10       12      19       89       11      13      154\n",
      "kitchen          11        9      16        6       99      16      157\n",
      "office           22       11      22       11       11     105      182\n",
      "__all__         160      167     203      133      163     174     1000\n",
      "\n",
      "\n",
      "Overall Statistics:\n",
      "\n",
      "Accuracy: 0.597\n",
      "95% CI: (0.5658500437642712, 0.6275771456439941)\n",
      "No Information Rate: ToDo\n",
      "P-Value [Acc > NIR]: 1.4457512351329107e-162\n",
      "Kappa: 0.5155673571735098\n",
      "Mcnemar's Test P-Value: ToDo\n",
      "\n",
      "\n",
      "Class Statistics:\n",
      "\n",
      "Classes                                 bathroom    bedroom     garden  \\\n",
      "Population                                  1000       1000       1000   \n",
      "P: Condition positive                        149        171        187   \n",
      "N: Condition negative                        851        829        813   \n",
      "Test outcome positive                        160        167        203   \n",
      "Test outcome negative                        840        833        797   \n",
      "TP: True Positive                             90        101        113   \n",
      "TN: True Negative                            781        763        723   \n",
      "FP: False Positive                            70         66         90   \n",
      "FN: False Negative                            59         70         74   \n",
      "TPR: (Sensitivity, hit rate, recall)    0.604027   0.590643   0.604278   \n",
      "TNR=SPC: (Specificity)                  0.917744   0.920386   0.889299   \n",
      "PPV: Pos Pred Value (Precision)           0.5625    0.60479    0.55665   \n",
      "NPV: Neg Pred Value                     0.929762   0.915966   0.907152   \n",
      "FPR: False-out                         0.0822562   0.079614   0.110701   \n",
      "FDR: False Discovery Rate                 0.4375    0.39521    0.44335   \n",
      "FNR: Miss Rate                          0.395973   0.409357   0.395722   \n",
      "ACC: Accuracy                              0.871      0.864      0.836   \n",
      "F1 score                                0.582524   0.597633   0.579487   \n",
      "MCC: Matthews correlation coefficient   0.506802    0.51587   0.478458   \n",
      "Informedness                            0.521771   0.511029   0.493577   \n",
      "Markedness                              0.492262   0.520757   0.463802   \n",
      "Prevalence                                 0.149      0.171      0.187   \n",
      "LR+: Positive likelihood ratio           7.34324    7.41884    5.45865   \n",
      "LR-: Negative likelihood ratio          0.431464   0.444766   0.444982   \n",
      "DOR: Diagnostic odds ratio               17.0194    16.6803    12.2671   \n",
      "FOR: False omission rate               0.0702381  0.0840336  0.0928482   \n",
      "\n",
      "Classes                                  hallway    kitchen     office  \n",
      "Population                                  1000       1000       1000  \n",
      "P: Condition positive                        154        157        182  \n",
      "N: Condition negative                        846        843        818  \n",
      "Test outcome positive                        133        163        174  \n",
      "Test outcome negative                        867        837        826  \n",
      "TP: True Positive                             89         99        105  \n",
      "TN: True Negative                            802        779        749  \n",
      "FP: False Positive                            44         64         69  \n",
      "FN: False Negative                            65         58         77  \n",
      "TPR: (Sensitivity, hit rate, recall)    0.577922   0.630573   0.576923  \n",
      "TNR=SPC: (Specificity)                  0.947991   0.924081   0.915648  \n",
      "PPV: Pos Pred Value (Precision)         0.669173   0.607362   0.603448  \n",
      "NPV: Neg Pred Value                     0.925029   0.930705    0.90678  \n",
      "FPR: False-out                         0.0520095  0.0759193  0.0843521  \n",
      "FDR: False Discovery Rate               0.330827   0.392638   0.396552  \n",
      "FNR: Miss Rate                          0.422078   0.369427   0.423077  \n",
      "ACC: Accuracy                              0.891      0.878      0.854  \n",
      "F1 score                                0.620209    0.61875   0.589888  \n",
      "MCC: Matthews correlation coefficient   0.559015   0.546297   0.501322  \n",
      "Informedness                            0.525913   0.554654   0.492571  \n",
      "Markedness                              0.594202   0.538067   0.510228  \n",
      "Prevalence                                 0.154      0.157      0.182  \n",
      "LR+: Positive likelihood ratio           11.1119    8.30583    6.83946  \n",
      "LR-: Negative likelihood ratio          0.445234   0.399778   0.462052  \n",
      "DOR: Diagnostic odds ratio               24.9573    20.7761    14.8024  \n",
      "FOR: False omission rate               0.0749712  0.0692951  0.0932203  \n"
     ]
    }
   ],
   "source": [
    "cm = ConfusionMatrix(y_test, y_predict)\n",
    "cm.print_stats()"
   ]
  },
  {
   "cell_type": "code",
   "execution_count": 38,
   "metadata": {},
   "outputs": [
    {
     "data": {
      "text/plain": [
       "<matplotlib.axes._subplots.AxesSubplot at 0x119f17750>"
      ]
     },
     "execution_count": 38,
     "metadata": {},
     "output_type": "execute_result"
    },
    {
     "data": {
      "image/png": "[encoded data removed]",
      "text/plain": [
       "<Figure size 648x576 with 2 Axes>"
      ]
     },
     "metadata": {
      "needs_background": "light"
     },
     "output_type": "display_data"
    }
   ],
   "source": [
    "cm.plot()"
   ]
  },
  {
   "cell_type": "code",
   "execution_count": 41,
   "metadata": {},
   "outputs": [
    {
     "data": {
      "image/png": "[encoded data removed]",
      "text/plain": [
       "<Figure size 432x288 with 1 Axes>"
      ]
     },
     "metadata": {
      "needs_background": "light"
     },
     "output_type": "display_data"
    }
   ],
   "source": [
    "plt.bar(X_train.columns, gs.best_estimator_.feature_importances_)\n",
    "plt.xticks(rotation=60)\n",
    "plt.show()"
   ]
  },
  {
   "cell_type": "code",
   "execution_count": 42,
   "metadata": {},
   "outputs": [
    {
     "name": "stdout",
     "output_type": "stream",
     "text": [
      "RandomForestClassifier(bootstrap=True, class_weight=None, criterion='gini',\n",
      "            max_depth=20, max_features=5, max_leaf_nodes=None,\n",
      "            min_impurity_decrease=0.0, min_impurity_split=None,\n",
      "            min_samples_leaf=1, min_samples_split=2,\n",
      "            min_weight_fraction_leaf=0.0, n_estimators=100, n_jobs=None,\n",
      "            oob_score=False, random_state=42, verbose=0, warm_start=False)\n"
     ]
    }
   ],
   "source": [
    "print gs.best_estimator_"
   ]
  },
  {
   "cell_type": "code",
   "execution_count": null,
   "metadata": {},
   "outputs": [],
   "source": []
  }
 ],
 "metadata": {
  "kernelspec": {
   "display_name": "ml-reference-implementations",
   "language": "python",
   "name": "ml-reference-implementations"
  },
  "language_info": {
   "codemirror_mode": {
    "name": "ipython",
    "version": 2
   },
   "file_extension": ".py",
   "mimetype": "text/x-python",
   "name": "python",
   "nbconvert_exporter": "python",
   "pygments_lexer": "ipython2",
   "version": "2.7.15"
  }
 },
 "nbformat": 4,
 "nbformat_minor": 2
}
