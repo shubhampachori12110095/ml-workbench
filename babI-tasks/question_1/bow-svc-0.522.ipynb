{
 "cells": [
  {
   "cell_type": "code",
   "execution_count": 1,
   "metadata": {},
   "outputs": [],
   "source": [
    "import os\n",
    "import sys\n",
    "%reload_ext autoreload\n",
    "%autoreload\n",
    "\n",
    "project_root = os.path.abspath(os.path.join('../../../'))\n",
    "if project_root not in sys.path:\n",
    "    sys.path.append(project_root)"
   ]
  },
  {
   "cell_type": "code",
   "execution_count": 2,
   "metadata": {},
   "outputs": [],
   "source": [
    "import pandas as pd\n",
    "from ml_workbench.src.data_loaders.BablTask1Loader import split_parse_data\n",
    "\n",
    "X_train, y_train = split_parse_data('/Users/enrico.t/code/ml_workbench/' + \n",
    "  'data/tasks_1-20_v1-2/en/qa1_single-supporting-fact_train.txt')\n",
    "\n",
    "X_test, y_test = split_parse_data('/Users/enrico.t/code/ml_workbench/' + \n",
    " 'data/tasks_1-20_v1-2/en/qa1_single-supporting-fact_test.txt')"
   ]
  },
  {
   "cell_type": "code",
   "execution_count": 3,
   "metadata": {},
   "outputs": [
    {
     "name": "stdout",
     "output_type": "stream",
     "text": [
      "Fitting 5 folds for each of 16 candidates, totalling 80 fits\n"
     ]
    },
    {
     "name": "stderr",
     "output_type": "stream",
     "text": [
      "[Parallel(n_jobs=-1)]: Using backend LokyBackend with 4 concurrent workers.\n",
      "[Parallel(n_jobs=-1)]: Done  42 tasks      | elapsed:   32.6s\n",
      "[Parallel(n_jobs=-1)]: Done  80 out of  80 | elapsed:   58.9s finished\n",
      "/Users/enrico.t/code/ml_workbench/venv/lib/python2.7/site-packages/sklearn/utils/validation.py:752: DataConversionWarning: A column-vector y was passed when a 1d array was expected. Please change the shape of y to (n_samples, ), for example using ravel().\n",
      "  y = column_or_1d(y, warn=True)\n"
     ]
    },
    {
     "name": "stdout",
     "output_type": "stream",
     "text": [
      "{'clf__gamma': 0.0001, 'clf__C': 100}\n"
     ]
    }
   ],
   "source": [
    "from sklearn.pipeline import Pipeline\n",
    "from sklearn.model_selection import GridSearchCV\n",
    "from sklearn.feature_extraction.text import CountVectorizer, TfidfTransformer\n",
    "from sklearn.svm import SVC\n",
    "from ml_workbench.src.vectorizers.ColumnBowVectorizer import ColumnBowVectorizer\n",
    "\n",
    "pipeline = Pipeline([\n",
    "    ('bow', ColumnBowVectorizer()),\n",
    "    ('clf', SVC()) # probability = True ?\n",
    "])\n",
    "\n",
    "parameters = {\n",
    "    'clf__C': [1, 10, 100, 1000],\n",
    "    'clf__gamma': [1, 0.1, 0.001, 0.0001], \n",
    "}\n",
    "\n",
    "grid = GridSearchCV(\n",
    "    pipeline, \n",
    "    parameters, \n",
    "    cv=5,\n",
    "    n_jobs=-1, \n",
    "    verbose=1\n",
    ")\n",
    "\n",
    "grid.fit(X_train, y_train)\n",
    "y_predict = grid.predict(X_test)\n",
    "\n",
    "print grid.best_params_"
   ]
  },
  {
   "cell_type": "code",
   "execution_count": 4,
   "metadata": {
    "scrolled": true
   },
   "outputs": [
    {
     "name": "stderr",
     "output_type": "stream",
     "text": [
      "/Users/enrico.t/code/ml_workbench/venv/lib/python2.7/site-packages/pandas_ml/confusion_matrix/stats.py:60: FutureWarning: supplying multiple axes to axis is deprecated and will be removed in a future version.\n",
      "  num = df[df > 1].dropna(axis=[0, 1], thresh=1).applymap(lambda n: choose(n, 2)).sum().sum() - np.float64(nis2 * njs2) / n2\n"
     ]
    },
    {
     "name": "stdout",
     "output_type": "stream",
     "text": [
      "Confusion Matrix:\n",
      "\n",
      "Predicted  bathroom  bedroom  garden  hallway  kitchen  office  __all__\n",
      "Actual                                                                 \n",
      "bathroom         79       16      20       10       10      14      149\n",
      "bedroom          23       83      21       11       16      17      171\n",
      "garden           11       16     106       10       20      24      187\n",
      "hallway          11       16      16       78       14      19      154\n",
      "kitchen          14       11      17       12       92      11      157\n",
      "office           27       15      19       15       17      89      182\n",
      "__all__         165      157     199      136      169     174     1000\n",
      "\n",
      "\n",
      "Overall Statistics:\n",
      "\n",
      "Accuracy: 0.527\n",
      "95% CI: (0.4955145839930299, 0.5583260325172703)\n",
      "No Information Rate: ToDo\n",
      "P-Value [Acc > NIR]: 6.635815403729728e-117\n",
      "Kappa: 0.43163384241958164\n",
      "Mcnemar's Test P-Value: ToDo\n",
      "\n",
      "\n",
      "Class Statistics:\n",
      "\n",
      "Classes                                 bathroom    bedroom    garden  \\\n",
      "Population                                  1000       1000      1000   \n",
      "P: Condition positive                        149        171       187   \n",
      "N: Condition negative                        851        829       813   \n",
      "Test outcome positive                        165        157       199   \n",
      "Test outcome negative                        835        843       801   \n",
      "TP: True Positive                             79         83       106   \n",
      "TN: True Negative                            765        755       720   \n",
      "FP: False Positive                            86         74        93   \n",
      "FN: False Negative                            70         88        81   \n",
      "TPR: (Sensitivity, hit rate, recall)    0.530201    0.48538  0.566845   \n",
      "TNR=SPC: (Specificity)                  0.898942   0.910736  0.885609   \n",
      "PPV: Pos Pred Value (Precision)         0.478788   0.528662  0.532663   \n",
      "NPV: Neg Pred Value                     0.916168   0.895611  0.898876   \n",
      "FPR: False-out                          0.101058  0.0892642  0.114391   \n",
      "FDR: False Discovery Rate               0.521212   0.471338  0.467337   \n",
      "FNR: Miss Rate                          0.469799    0.51462  0.433155   \n",
      "ACC: Accuracy                              0.844      0.838     0.826   \n",
      "F1 score                                0.503185   0.506098  0.549223   \n",
      "MCC: Matthews correlation coefficient   0.411695   0.409953  0.441873   \n",
      "Informedness                            0.429144   0.396116  0.452454   \n",
      "Markedness                              0.394956   0.424273   0.43154   \n",
      "Prevalence                                 0.149      0.171     0.187   \n",
      "LR+: Positive likelihood ratio           5.24653    5.43757   4.95532   \n",
      "LR-: Negative likelihood ratio          0.522613   0.565059  0.489104   \n",
      "DOR: Diagnostic odds ratio                10.039      9.623   10.1314   \n",
      "FOR: False omission rate               0.0838323   0.104389  0.101124   \n",
      "\n",
      "Classes                                  hallway    kitchen    office  \n",
      "Population                                  1000       1000      1000  \n",
      "P: Condition positive                        154        157       182  \n",
      "N: Condition negative                        846        843       818  \n",
      "Test outcome positive                        136        169       174  \n",
      "Test outcome negative                        864        831       826  \n",
      "TP: True Positive                             78         92        89  \n",
      "TN: True Negative                            788        766       733  \n",
      "FP: False Positive                            58         77        85  \n",
      "FN: False Negative                            76         65        93  \n",
      "TPR: (Sensitivity, hit rate, recall)    0.506494   0.585987  0.489011  \n",
      "TNR=SPC: (Specificity)                  0.931442    0.90866  0.896088  \n",
      "PPV: Pos Pred Value (Precision)         0.573529   0.544379  0.511494  \n",
      "NPV: Neg Pred Value                     0.912037   0.921781  0.887409  \n",
      "FPR: False-out                         0.0685579  0.0913405  0.103912  \n",
      "FDR: False Discovery Rate               0.426471   0.455621  0.488506  \n",
      "FNR: Miss Rate                          0.493506   0.414013  0.510989  \n",
      "ACC: Accuracy                              0.866      0.858     0.822  \n",
      "F1 score                                0.537931   0.564417       0.5  \n",
      "MCC: Matthews correlation coefficient   0.461136   0.480192   0.39194  \n",
      "Informedness                            0.437936   0.494647  0.385099  \n",
      "Markedness                              0.485566    0.46616  0.398903  \n",
      "Prevalence                                 0.154      0.157     0.182  \n",
      "LR+: Positive likelihood ratio           7.38782    6.41542   4.70601  \n",
      "LR-: Negative likelihood ratio          0.529831    0.45563  0.570244  \n",
      "DOR: Diagnostic odds ratio               13.9437    14.0803   8.25262  \n",
      "FOR: False omission rate                0.087963   0.078219  0.112591  \n",
      "AxesSubplot(0.125,0.11;0.62x0.77)\n"
     ]
    }
   ],
   "source": [
    "from pandas_ml import ConfusionMatrix\n",
    "\n",
    "cm = ConfusionMatrix(y_test.values.flatten(), y_predict)\n",
    "cm.print_stats()\n",
    "print cm.plot()"
   ]
  },
  {
   "cell_type": "code",
   "execution_count": 7,
   "metadata": {},
   "outputs": [
    {
     "name": "stdout",
     "output_type": "stream",
     "text": [
      "[]\n"
     ]
    }
   ],
   "source": [
    "bow = pipeline.named_steps['bow']\n",
    "print bow._feature_names"
   ]
  },
  {
   "cell_type": "code",
   "execution_count": null,
   "metadata": {},
   "outputs": [],
   "source": []
  }
 ],
 "metadata": {
  "kernelspec": {
   "display_name": "ml_workbench",
   "language": "python",
   "name": "ml_workbench"
  },
  "language_info": {
   "codemirror_mode": {
    "name": "ipython",
    "version": 2
   },
   "file_extension": ".py",
   "mimetype": "text/x-python",
   "name": "python",
   "nbconvert_exporter": "python",
   "pygments_lexer": "ipython2",
   "version": "2.7.15"
  }
 },
 "nbformat": 4,
 "nbformat_minor": 2
}
