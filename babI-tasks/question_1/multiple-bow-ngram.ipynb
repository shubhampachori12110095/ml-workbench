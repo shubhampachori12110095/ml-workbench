{
 "cells": [
  {
   "cell_type": "code",
   "execution_count": null,
   "metadata": {},
   "outputs": [],
   "source": [
    "\"\"\"\n",
    "PLAN (BabI task 1)\n",
    "\n",
    "given input:\n",
    "- fact 1   | John travelled to the hallway.\n",
    "- fact 2   | Mary journeyed to the bathroom.\n",
    "- question | Where is John?\n",
    "\n",
    "output:\n",
    "- answer   | hallway\n",
    "\n",
    "idea:\n",
    "\n",
    "create 2 and 3 word of bag grams to demonstrate correlation between names and places. \n",
    "the 1-gram bag of words should also pick this relationship up, \n",
    "maybe we'll get better performance from having a more specific feature for this.\n",
    "\n",
    "may also be worth to set a min_count to get rid of the unimportant grams.\n",
    "\n",
    "example:\n",
    "\n",
    "fact 1: \"john-hallway\"\n",
    "fact 2 :\"mary-bathroom\"\n",
    "question: \"where-john\" \n",
    "answer: \"hallway\"\n",
    "\"\"\""
   ]
  },
  {
   "cell_type": "code",
   "execution_count": null,
   "metadata": {},
   "outputs": [],
   "source": [
    "class MultiColumnBagOfWordsVectorizer(object):\n",
    "    def __init__(self):\n",
    "        pass\n",
    "\n",
    "    def fit(self, X, y):\n",
    "        \"\"\"X is a dataframe consisting of multiple text columns\"\"\"\n",
    "        \n",
    "        # build vocabulary dictionary\n",
    "        y\n",
    "        return self\n",
    "\n",
    "    def transform(self, X):\n",
    "        \n",
    "        # for each column\n",
    "      \n",
    "        # tokenise\n",
    "        \n",
    "        # create n-gram bag of word sparse matrix  \n",
    "                \n",
    "        # convert bag of words to array\n",
    "        \n",
    "        # attach to feature list\n",
    "        \n",
    "        return X # the feature array"
   ]
  },
  {
   "cell_type": "code",
   "execution_count": null,
   "metadata": {},
   "outputs": [],
   "source": [
    "from sklearn.pipeline import Pipeline\n",
    "from sklearn.ensemble import RandomForestClassifier\n",
    "\n",
    "model = [\n",
    "    ('bow', MultiColumnBagOfWordsVectorizer()),\n",
    "    ('clf', RandomForestClassifier()),\n",
    "]\n",
    "\n",
    "model.fit_transform(X_train, y_train)\n",
    "y_predict = model.predict(X_test)"
   ]
  },
  {
   "cell_type": "code",
   "execution_count": null,
   "metadata": {},
   "outputs": [],
   "source": [
    "from pandas_ml import ConfusionMatrix\n",
    "\n",
    "cm = ConfusionMatrix(y_test, y_predict)\n",
    "cm.print_stats()\n",
    "print cm.plot()"
   ]
  }
 ],
 "metadata": {
  "kernelspec": {
   "display_name": "ml-reference-implementations",
   "language": "python",
   "name": "ml-reference-implementations"
  },
  "language_info": {
   "codemirror_mode": {
    "name": "ipython",
    "version": 2
   },
   "file_extension": ".py",
   "mimetype": "text/x-python",
   "name": "python",
   "nbconvert_exporter": "python",
   "pygments_lexer": "ipython2",
   "version": "2.7.15"
  }
 },
 "nbformat": 4,
 "nbformat_minor": 2
}
