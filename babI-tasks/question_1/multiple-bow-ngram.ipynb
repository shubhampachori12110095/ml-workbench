{
 "cells": [
  {
   "cell_type": "markdown",
   "metadata": {},
   "source": [
    "PLAN (BabI task 1)\n",
    "\n",
    "given input:\n",
    "- John travelled to the hallway. (fact1)\n",
    "- Mary journeyed to the bathroom. (fact2)\n",
    "- Where is John? (question)\n",
    "\n",
    "output:\n",
    "- hallway (answer)\n",
    "\n",
    "idea:\n",
    "\n",
    "create 2 and 3 word of bag grams to demonstrate correlation between names and places. \n",
    "the 1-gram bag of words should also pick this relationship up, \n",
    "maybe we'll get better performance from having a more specific feature for this.\n",
    "\n",
    "may also be worth to set a min_count to get rid of the unimportant grams.\n",
    "\n",
    "example:\n",
    "\n",
    "fact 1: \"john-hallway\"\n",
    "fact 2 :\"mary-bathroom\"\n",
    "question: \"where-john\" \n",
    "answer: \"hallway\""
   ]
  },
  {
   "cell_type": "code",
   "execution_count": 16,
   "metadata": {},
   "outputs": [],
   "source": [
    "%reload_ext autoreload\n",
    "%autoreload\n",
    "\n",
    "import os\n",
    "import sys\n",
    "project_root = os.path.abspath(os.path.join('../../../'))\n",
    "if project_root not in sys.path:\n",
    "    sys.path.append(project_root)"
   ]
  },
  {
   "cell_type": "code",
   "execution_count": 18,
   "metadata": {},
   "outputs": [
    {
     "ename": "ImportError",
     "evalue": "cannot import name split_parse_data",
     "output_type": "error",
     "traceback": [
      "\u001b[0;31m---------------------------------------------------------------------------\u001b[0m",
      "\u001b[0;31mImportError\u001b[0m                               Traceback (most recent call last)",
      "\u001b[0;32m<ipython-input-18-f0822b740b42>\u001b[0m in \u001b[0;36m<module>\u001b[0;34m()\u001b[0m\n\u001b[1;32m      1\u001b[0m \u001b[0;32mimport\u001b[0m \u001b[0mpandas\u001b[0m \u001b[0;32mas\u001b[0m \u001b[0mpd\u001b[0m\u001b[0;34m\u001b[0m\u001b[0m\n\u001b[0;32m----> 2\u001b[0;31m \u001b[0;32mfrom\u001b[0m \u001b[0mml_workbench\u001b[0m\u001b[0;34m.\u001b[0m\u001b[0msrc\u001b[0m\u001b[0;34m.\u001b[0m\u001b[0mdata_loaders\u001b[0m\u001b[0;34m.\u001b[0m\u001b[0mBablTask1Loader\u001b[0m \u001b[0;32mimport\u001b[0m \u001b[0msplit_parse_data\u001b[0m\u001b[0;34m\u001b[0m\u001b[0m\n\u001b[0m\u001b[1;32m      3\u001b[0m \u001b[0;34m\u001b[0m\u001b[0m\n\u001b[1;32m      4\u001b[0m X_train, y_train = split_parse_data('/Users/enrico.t/code/ml_workbench/' + \n\u001b[1;32m      5\u001b[0m   'data/tasks_1-20_v1-2/en/qa1_single-supporting-fact_train.txt')\n",
      "\u001b[0;31mImportError\u001b[0m: cannot import name split_parse_data"
     ]
    }
   ],
   "source": [
    "import pandas as pd\n",
    "from ml_workbench.src.data_loaders.BablTask1Loader import split_parse_data\n",
    "\n",
    "X_train, y_train = split_parse_data('/Users/enrico.t/code/ml_workbench/' + \n",
    "  'data/tasks_1-20_v1-2/en/qa1_single-supporting-fact_train.txt')\n",
    "\n",
    "X_test, y_test = split_parse_data('/Users/enrico.t/code/ml_workbench/' + \n",
    " 'data/tasks_1-20_v1-2/en/qa1_single-supporting-fact_test.txt')"
   ]
  },
  {
   "cell_type": "code",
   "execution_count": null,
   "metadata": {},
   "outputs": [],
   "source": [
    "from sklearn.pipeline import Pipeline\n",
    "from sklearn.ensemble import RandomForestClassifier\n",
    "from sklearn.svm import SVC\n",
    "from ml_workbench.src.vectorizers.ColumnBowVectorizer import ColumnBowVectorizer\n",
    "\n",
    "model = Pipeline([\n",
    "    ('bow', ColumnBowVectorizer()),\n",
    "    ('clf', RandomForestClassifier(n_estimators=200)),\n",
    "    #('svc', SVC(kernel='linear'))\n",
    "])\n",
    "\n",
    "model.fit_transform(X_train, y_train)\n",
    "y_predict = model.predict(X_test)"
   ]
  },
  {
   "cell_type": "code",
   "execution_count": null,
   "metadata": {},
   "outputs": [],
   "source": [
    "from pandas_ml import ConfusionMatrix\n",
    "\n",
    "cm = ConfusionMatrix(y_test, y_predict)\n",
    "cm.print_stats()\n",
    "print cm.plot()"
   ]
  }
 ],
 "metadata": {
  "kernelspec": {
   "display_name": "ml_workbench",
   "language": "python",
   "name": "ml_workbench"
  },
  "language_info": {
   "codemirror_mode": {
    "name": "ipython",
    "version": 2
   },
   "file_extension": ".py",
   "mimetype": "text/x-python",
   "name": "python",
   "nbconvert_exporter": "python",
   "pygments_lexer": "ipython2",
   "version": "2.7.15"
  }
 },
 "nbformat": 4,
 "nbformat_minor": 2
}
