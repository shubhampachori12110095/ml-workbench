{
 "cells": [
  {
   "cell_type": "markdown",
   "metadata": {},
   "source": [
    "PLAN (BabI task 1)\n",
    "\n",
    "given input:\n",
    "- John travelled to the hallway. (fact1)\n",
    "- Mary journeyed to the bathroom. (fact2)\n",
    "- Where is John? (question)\n",
    "\n",
    "output:\n",
    "- hallway (answer)\n",
    "\n",
    "idea:\n",
    "\n",
    "create 2 and 3 word of bag grams to demonstrate correlation between names and places. \n",
    "the 1-gram bag of words should also pick this relationship up, \n",
    "maybe we'll get better performance from having a more specific feature for this.\n",
    "\n",
    "may also be worth to set a min_count to get rid of the unimportant grams.\n",
    "\n",
    "example:\n",
    "\n",
    "fact 1: \"john-hallway\"\n",
    "fact 2 :\"mary-bathroom\"\n",
    "question: \"where-john\" \n",
    "answer: \"hallway\""
   ]
  },
  {
   "cell_type": "code",
   "execution_count": 66,
   "metadata": {},
   "outputs": [],
   "source": [
    "%autoreload\n",
    "\n",
    "import os\n",
    "import sys\n",
    "project_root = os.path.abspath(os.path.join('../../../'))\n",
    "if project_root not in sys.path:\n",
    "    sys.path.append(project_root)"
   ]
  },
  {
   "cell_type": "code",
   "execution_count": 67,
   "metadata": {},
   "outputs": [],
   "source": [
    "import pandas as pd\n",
    "from ml_workbench.src.data_loaders.BablTask1Loader import parse_data\n",
    "\n",
    "df_train = parse_data('/Users/enrico.t/code/ml_workbench/' + \n",
    "  'data/tasks_1-20_v1-2/en/qa1_single-supporting-fact_train.txt')\n",
    "\n",
    "X_train = df_train[['fact1', 'fact2', 'question']]\n",
    "y_train = df_train['answer']\n",
    "\n",
    "df_test = parse_data('/Users/enrico.t/code/ml_workbench/' + \n",
    " 'data/tasks_1-20_v1-2/en/qa1_single-supporting-fact_test.txt')\n",
    "\n",
    "X_test = df_test[['fact1', 'fact2', 'question']]\n",
    "y_test = df_test['answer']"
   ]
  },
  {
   "cell_type": "code",
   "execution_count": 68,
   "metadata": {},
   "outputs": [
    {
     "ename": "AttributeError",
     "evalue": "'RandomForestClassifier' object has no attribute 'transform'",
     "output_type": "error",
     "traceback": [
      "\u001b[0;31m---------------------------------------------------------------------------\u001b[0m",
      "\u001b[0;31mAttributeError\u001b[0m                            Traceback (most recent call last)",
      "\u001b[0;32m<ipython-input-68-11d7fedcb324>\u001b[0m in \u001b[0;36m<module>\u001b[0;34m()\u001b[0m\n\u001b[1;32m     10\u001b[0m ])\n\u001b[1;32m     11\u001b[0m \u001b[0;34m\u001b[0m\u001b[0m\n\u001b[0;32m---> 12\u001b[0;31m \u001b[0mmodel\u001b[0m\u001b[0;34m.\u001b[0m\u001b[0mfit_transform\u001b[0m\u001b[0;34m(\u001b[0m\u001b[0mX_train\u001b[0m\u001b[0;34m,\u001b[0m \u001b[0my_train\u001b[0m\u001b[0;34m)\u001b[0m\u001b[0;34m\u001b[0m\u001b[0m\n\u001b[0m\u001b[1;32m     13\u001b[0m \u001b[0my_predict\u001b[0m \u001b[0;34m=\u001b[0m \u001b[0mmodel\u001b[0m\u001b[0;34m.\u001b[0m\u001b[0mpredict\u001b[0m\u001b[0;34m(\u001b[0m\u001b[0mX_test\u001b[0m\u001b[0;34m)\u001b[0m\u001b[0;34m\u001b[0m\u001b[0m\n",
      "\u001b[0;32m/Users/enrico.t/code/ml_workbench/venv/lib/python2.7/site-packages/sklearn/pipeline.pyc\u001b[0m in \u001b[0;36mfit_transform\u001b[0;34m(self, X, y, **fit_params)\u001b[0m\n\u001b[1;32m    302\u001b[0m             \u001b[0;32mreturn\u001b[0m \u001b[0mXt\u001b[0m\u001b[0;34m\u001b[0m\u001b[0m\n\u001b[1;32m    303\u001b[0m         \u001b[0;32melse\u001b[0m\u001b[0;34m:\u001b[0m\u001b[0;34m\u001b[0m\u001b[0m\n\u001b[0;32m--> 304\u001b[0;31m             \u001b[0;32mreturn\u001b[0m \u001b[0mlast_step\u001b[0m\u001b[0;34m.\u001b[0m\u001b[0mfit\u001b[0m\u001b[0;34m(\u001b[0m\u001b[0mXt\u001b[0m\u001b[0;34m,\u001b[0m \u001b[0my\u001b[0m\u001b[0;34m,\u001b[0m \u001b[0;34m**\u001b[0m\u001b[0mfit_params\u001b[0m\u001b[0;34m)\u001b[0m\u001b[0;34m.\u001b[0m\u001b[0mtransform\u001b[0m\u001b[0;34m(\u001b[0m\u001b[0mXt\u001b[0m\u001b[0;34m)\u001b[0m\u001b[0;34m\u001b[0m\u001b[0m\n\u001b[0m\u001b[1;32m    305\u001b[0m \u001b[0;34m\u001b[0m\u001b[0m\n\u001b[1;32m    306\u001b[0m     \u001b[0;34m@\u001b[0m\u001b[0mif_delegate_has_method\u001b[0m\u001b[0;34m(\u001b[0m\u001b[0mdelegate\u001b[0m\u001b[0;34m=\u001b[0m\u001b[0;34m'_final_estimator'\u001b[0m\u001b[0;34m)\u001b[0m\u001b[0;34m\u001b[0m\u001b[0m\n",
      "\u001b[0;31mAttributeError\u001b[0m: 'RandomForestClassifier' object has no attribute 'transform'"
     ]
    }
   ],
   "source": [
    "from sklearn.pipeline import Pipeline\n",
    "from sklearn.ensemble import RandomForestClassifier\n",
    "from sklearn.svm import SVC\n",
    "from ml_workbench.src.vectorizers.ColumnBowVectorizer import ColumnBowVectorizer\n",
    "\n",
    "model = Pipeline([\n",
    "    ('bow', ColumnBowVectorizer()),\n",
    "    ('clf', RandomForestClassifier(n_estimators=200)),\n",
    "    #('svc', SVC(kernel='linear'))\n",
    "])\n",
    "\n",
    "model.fit_transform(X_train, y_train)\n",
    "y_predict = model.predict(X_test)"
   ]
  },
  {
   "cell_type": "code",
   "execution_count": null,
   "metadata": {},
   "outputs": [],
   "source": [
    "from pandas_ml import ConfusionMatrix\n",
    "\n",
    "cm = ConfusionMatrix(y_test, y_predict)\n",
    "cm.print_stats()\n",
    "print cm.plot()"
   ]
  }
 ],
 "metadata": {
  "kernelspec": {
   "display_name": "ml_workbench",
   "language": "python",
   "name": "ml_workbench"
  },
  "language_info": {
   "codemirror_mode": {
    "name": "ipython",
    "version": 2
   },
   "file_extension": ".py",
   "mimetype": "text/x-python",
   "name": "python",
   "nbconvert_exporter": "python",
   "pygments_lexer": "ipython2",
   "version": "2.7.15"
  }
 },
 "nbformat": 4,
 "nbformat_minor": 2
}
