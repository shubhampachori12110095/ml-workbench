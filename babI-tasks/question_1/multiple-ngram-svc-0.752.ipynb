{
 "cells": [
  {
   "cell_type": "code",
   "execution_count": null,
   "metadata": {},
   "outputs": [],
   "source": [
    "\"\"\"\n",
    "Approach:\n",
    "- create a bag-of-words for each of: fact1, fact2, question, answer.\n",
    "- remove stopwords, as well as sentence punctuation and all verbs.\n",
    "- create 2-grams using the bag-of-words\n",
    "\n",
    "Evaluation:\n",
    "- using this method, given that one of the facts states where john is, \n",
    "  we can say where he is correctly with high certainty and probability.\n",
    "\n",
    "Limitations:\n",
    "- approach only works for previously seen people and places\n",
    "- if the given facts do not contain the answer to the question, \n",
    "  we don't know with certainty where the person is, as we don't keep previous facts in memory.\n",
    "  \n",
    "  (note the model does remember places john has been to in the past \n",
    "  based on previous examples in the training data and thus scores \n",
    "  some places more likely than others)\n",
    "  \n",
    "Next Steps:\n",
    "- could add a 7th \"don't know/can't remember\" answer given low certainty, would have to relabel \n",
    "  train/test data.\n",
    "  \n",
    "- discover a way that the classifier can remember where the person was last\n",
    "- discover a way to generalise the model to unseen people and places\n",
    "\n",
    "\"\"\""
   ]
  },
  {
   "cell_type": "code",
   "execution_count": 1,
   "metadata": {},
   "outputs": [],
   "source": [
    "import os\n",
    "import sys\n",
    "%reload_ext autoreload\n",
    "%autoreload\n",
    "%matplotlib inline\n",
    "\n",
    "project_root = os.path.abspath(os.path.join('../../../'))\n",
    "if project_root not in sys.path:\n",
    "    sys.path.append(project_root)"
   ]
  },
  {
   "cell_type": "code",
   "execution_count": 2,
   "metadata": {},
   "outputs": [],
   "source": [
    "import pandas as pd\n",
    "from ml_workbench.src.data_loaders.BablTask1Loader import split_parse_data\n",
    "\n",
    "X_train, y_train = split_parse_data('/Users/enrico.t/code/ml_workbench/' + \n",
    "  'data/tasks_1-20_v1-2/en/qa1_single-supporting-fact_train.txt')\n",
    "\n",
    "X_test, y_test = split_parse_data('/Users/enrico.t/code/ml_workbench/' + \n",
    " 'data/tasks_1-20_v1-2/en/qa1_single-supporting-fact_test.txt')"
   ]
  },
  {
   "cell_type": "code",
   "execution_count": 3,
   "metadata": {},
   "outputs": [
    {
     "name": "stdout",
     "output_type": "stream",
     "text": [
      "Fitting 3 folds for each of 30 candidates, totalling 90 fits\n"
     ]
    },
    {
     "name": "stderr",
     "output_type": "stream",
     "text": [
      "[Parallel(n_jobs=-1)]: Using backend LokyBackend with 4 concurrent workers.\n",
      "[Parallel(n_jobs=-1)]: Done  42 tasks      | elapsed:   37.8s\n",
      "[Parallel(n_jobs=-1)]: Done  90 out of  90 | elapsed:  1.3min finished\n",
      "/Users/enrico.t/code/ml_workbench/venv/lib/python2.7/site-packages/sklearn/utils/validation.py:752: DataConversionWarning: A column-vector y was passed when a 1d array was expected. Please change the shape of y to (n_samples, ), for example using ravel().\n",
      "  y = column_or_1d(y, warn=True)\n"
     ]
    },
    {
     "name": "stdout",
     "output_type": "stream",
     "text": [
      "{'clf__gamma': 1, 'clf__C': 1}\n"
     ]
    }
   ],
   "source": [
    "from sklearn.pipeline import Pipeline\n",
    "from sklearn.model_selection import GridSearchCV\n",
    "from sklearn.feature_extraction.text import CountVectorizer\n",
    "from sklearn.decomposition import PCA\n",
    "from sklearn.svm import SVC\n",
    "from ml_workbench.src.vectorizers.ColumnBowVectorizer import ColumnBowVectorizer\n",
    "\n",
    "pipeline = Pipeline([\n",
    "    ('bow', ColumnBowVectorizer()),\n",
    "    ('clf', SVC(probability=True))\n",
    "])\n",
    "\n",
    "parameters = {\n",
    "    'clf__C': [1, 5,  10, 100, 1000],\n",
    "    'clf__gamma': [10, 5, 1, 0.1, 0.001, 0.0001],\n",
    "}\n",
    "\n",
    "grid = GridSearchCV(\n",
    "    pipeline, \n",
    "    parameters, \n",
    "    cv=3,\n",
    "    n_jobs=-1, \n",
    "    verbose=1\n",
    ")\n",
    "\n",
    "grid.fit(X_train, y_train)\n",
    "y_predict = grid.predict(X_test)\n",
    "print grid.best_params_"
   ]
  },
  {
   "cell_type": "code",
   "execution_count": 4,
   "metadata": {
    "scrolled": false
   },
   "outputs": [
    {
     "name": "stderr",
     "output_type": "stream",
     "text": [
      "/Users/enrico.t/code/ml_workbench/venv/lib/python2.7/site-packages/pandas_ml/confusion_matrix/stats.py:60: FutureWarning: supplying multiple axes to axis is deprecated and will be removed in a future version.\n",
      "  num = df[df > 1].dropna(axis=[0, 1], thresh=1).applymap(lambda n: choose(n, 2)).sum().sum() - np.float64(nis2 * njs2) / n2\n"
     ]
    },
    {
     "name": "stdout",
     "output_type": "stream",
     "text": [
      "Confusion Matrix:\n",
      "\n",
      "Predicted  bathroom  bedroom  garden  hallway  kitchen  office  __all__\n",
      "Actual                                                                 \n",
      "bathroom        117        8      12        1        3       8      149\n",
      "bedroom           5      126      20        3       10       7      171\n",
      "garden            4       11     155        4        4       9      187\n",
      "hallway           5        7      20      110        3       9      154\n",
      "kitchen           5        4      21        4      118       5      157\n",
      "office            4        9      27       10        6     126      182\n",
      "__all__         140      165     255      132      144     164     1000\n",
      "\n",
      "\n",
      "Overall Statistics:\n",
      "\n",
      "Accuracy: 0.752\n",
      "95% CI: (0.7240157794869074, 0.7784918701625345)\n",
      "No Information Rate: ToDo\n",
      "P-Value [Acc > NIR]: 6.17252249132369e-237\n",
      "Kappa: 0.701368886491277\n",
      "Mcnemar's Test P-Value: ToDo\n",
      "\n",
      "\n",
      "Class Statistics:\n",
      "\n",
      "Classes                                 bathroom    bedroom    garden  \\\n",
      "Population                                  1000       1000      1000   \n",
      "P: Condition positive                        149        171       187   \n",
      "N: Condition negative                        851        829       813   \n",
      "Test outcome positive                        140        165       255   \n",
      "Test outcome negative                        860        835       745   \n",
      "TP: True Positive                            117        126       155   \n",
      "TN: True Negative                            828        790       713   \n",
      "FP: False Positive                            23         39       100   \n",
      "FN: False Negative                            32         45        32   \n",
      "TPR: (Sensitivity, hit rate, recall)    0.785235   0.736842  0.828877   \n",
      "TNR=SPC: (Specificity)                  0.972973   0.952955  0.876999   \n",
      "PPV: Pos Pred Value (Precision)         0.835714   0.763636  0.607843   \n",
      "NPV: Neg Pred Value                     0.962791   0.946108  0.957047   \n",
      "FPR: False-out                          0.027027  0.0470446  0.123001   \n",
      "FDR: False Discovery Rate               0.164286   0.236364  0.392157   \n",
      "FNR: Miss Rate                          0.214765   0.263158  0.171123   \n",
      "ACC: Accuracy                              0.945      0.916     0.868   \n",
      "F1 score                                0.809689       0.75  0.701357   \n",
      "MCC: Matthews correlation coefficient   0.778096     0.6997   0.63146   \n",
      "Informedness                            0.758208   0.689797  0.705876   \n",
      "Markedness                              0.798505   0.709744   0.56489   \n",
      "Prevalence                                 0.149      0.171     0.187   \n",
      "LR+: Positive likelihood ratio           29.0537    15.6626   6.73877   \n",
      "LR-: Negative likelihood ratio          0.220731   0.276149  0.195123   \n",
      "DOR: Diagnostic odds ratio               131.625    56.7179   34.5359   \n",
      "FOR: False omission rate               0.0372093  0.0538922  0.042953   \n",
      "\n",
      "Classes                                  hallway    kitchen     office  \n",
      "Population                                  1000       1000       1000  \n",
      "P: Condition positive                        154        157        182  \n",
      "N: Condition negative                        846        843        818  \n",
      "Test outcome positive                        132        144        164  \n",
      "Test outcome negative                        868        856        836  \n",
      "TP: True Positive                            110        118        126  \n",
      "TN: True Negative                            824        817        780  \n",
      "FP: False Positive                            22         26         38  \n",
      "FN: False Negative                            44         39         56  \n",
      "TPR: (Sensitivity, hit rate, recall)    0.714286   0.751592   0.692308  \n",
      "TNR=SPC: (Specificity)                  0.973995   0.969158   0.953545  \n",
      "PPV: Pos Pred Value (Precision)         0.833333   0.819444   0.768293  \n",
      "NPV: Neg Pred Value                     0.949309   0.954439   0.933014  \n",
      "FPR: False-out                         0.0260047  0.0308422  0.0464548  \n",
      "FDR: False Discovery Rate               0.166667   0.180556   0.231707  \n",
      "FNR: Miss Rate                          0.285714   0.248408   0.307692  \n",
      "ACC: Accuracy                              0.934      0.935      0.906  \n",
      "F1 score                                0.769231   0.784053   0.728324  \n",
      "MCC: Matthews correlation coefficient   0.733947   0.746845   0.673009  \n",
      "Informedness                            0.688281    0.72075   0.645853  \n",
      "Markedness                              0.782642   0.773884   0.701307  \n",
      "Prevalence                                 0.154      0.157      0.182  \n",
      "LR+: Positive likelihood ratio           27.4675    24.3689    14.9028  \n",
      "LR-: Negative likelihood ratio          0.293343   0.256313   0.322682  \n",
      "DOR: Diagnostic odds ratio               93.6364     95.075    46.1842  \n",
      "FOR: False omission rate               0.0506912  0.0455607  0.0669856  \n"
     ]
    }
   ],
   "source": [
    "from pandas_ml import ConfusionMatrix\n",
    "\n",
    "cm = ConfusionMatrix(y_test.values.flatten(), y_predict)\n",
    "cm.print_stats()"
   ]
  },
  {
   "cell_type": "code",
   "execution_count": 5,
   "metadata": {},
   "outputs": [
    {
     "data": {
      "text/plain": [
       "<matplotlib.axes._subplots.AxesSubplot at 0x111b43390>"
      ]
     },
     "execution_count": 5,
     "metadata": {},
     "output_type": "execute_result"
    },
    {
     "data": {
      "image/png": "[encoded data removed]",
      "text/plain": [
       "<Figure size 648x576 with 2 Axes>"
      ]
     },
     "metadata": {
      "needs_background": "light"
     },
     "output_type": "display_data"
    }
   ],
   "source": [
    "cm.plot()"
   ]
  },
  {
   "cell_type": "code",
   "execution_count": 17,
   "metadata": {},
   "outputs": [
    {
     "name": "stdout",
     "output_type": "stream",
     "text": [
      "fact1        John travelled to the hallway.\n",
      "fact2       Mary journeyed to the bathroom.\n",
      "question                    Where is John? \n",
      "Name: 0, dtype: object answer    hallway\n",
      "Name: 0, dtype: object\n",
      "[0.00864296 0.0082998  0.00594928 0.9658889  0.00494352 0.00627553]\n",
      "[0.10791962 0.11433394 0.28893045 0.24769605 0.10051359 0.14060635]\n"
     ]
    }
   ],
   "source": [
    "y_proba_predict = grid.predict_proba(X_test)\n",
    "\n",
    "print X_test.iloc[0], y_test.iloc[0]\n",
    "print y_proba_predict[0]\n",
    "\n",
    "# classifier is 96% sure that john is in the hallway, as one of the given facts attests to it"
   ]
  },
  {
   "cell_type": "code",
   "execution_count": 18,
   "metadata": {},
   "outputs": [
    {
     "name": "stdout",
     "output_type": "stream",
     "text": [
      "fact1       Daniel went back to the bathroom.\n",
      "fact2              John moved to the bedroom.\n",
      "question                      Where is Mary? \n",
      "Name: 1, dtype: object answer    bathroom\n",
      "Name: 1, dtype: object\n",
      "[0.10791962 0.11433394 0.28893045 0.24769605 0.10051359 0.14060635]\n"
     ]
    }
   ],
   "source": [
    "print X_test.iloc[1], y_test.iloc[1]\n",
    "print y_proba_predict[1]\n",
    "\n",
    "# classifier doesn't know from the facts where john is, which is reflected in the probabilities. "
   ]
  },
  {
   "cell_type": "code",
   "execution_count": null,
   "metadata": {},
   "outputs": [],
   "source": [
    "# actually a previous fact states that mary is in the bathroom, looks like the tasks follow one another.\n",
    "\n",
    "# looks like there's also a sequence dependency between the facts, in test[3] the correct answer can only\n",
    "# be known if fact 2 happened after fact 1."
   ]
  }
 ],
 "metadata": {
  "kernelspec": {
   "display_name": "ml_workbench",
   "language": "python",
   "name": "ml_workbench"
  },
  "language_info": {
   "codemirror_mode": {
    "name": "ipython",
    "version": 2
   },
   "file_extension": ".py",
   "mimetype": "text/x-python",
   "name": "python",
   "nbconvert_exporter": "python",
   "pygments_lexer": "ipython2",
   "version": "2.7.15"
  }
 },
 "nbformat": 4,
 "nbformat_minor": 2
}
