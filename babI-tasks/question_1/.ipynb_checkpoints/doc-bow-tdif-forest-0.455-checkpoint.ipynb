{
 "cells": [
  {
   "cell_type": "code",
   "execution_count": 1,
   "metadata": {},
   "outputs": [
    {
     "name": "stdout",
     "output_type": "stream",
     "text": [
      "Fitting 5 folds for each of 216 candidates, totalling 1080 fits\n"
     ]
    },
    {
     "name": "stderr",
     "output_type": "stream",
     "text": [
      "[Parallel(n_jobs=-1)]: Using backend LokyBackend with 4 concurrent workers.\n",
      "[Parallel(n_jobs=-1)]: Done  42 tasks      | elapsed:    6.5s\n",
      "[Parallel(n_jobs=-1)]: Done 192 tasks      | elapsed:   23.3s\n",
      "[Parallel(n_jobs=-1)]: Done 442 tasks      | elapsed:   51.6s\n",
      "[Parallel(n_jobs=-1)]: Done 792 tasks      | elapsed:  1.6min\n"
     ]
    },
    {
     "name": "stdout",
     "output_type": "stream",
     "text": [
      "{'clf__criterion': 'entropy', 'clf__max_depth': 5, 'clf__max_features': 3, 'clf__n_estimators': 10}\n"
     ]
    },
    {
     "name": "stderr",
     "output_type": "stream",
     "text": [
      "[Parallel(n_jobs=-1)]: Done 1080 out of 1080 | elapsed:  2.2min finished\n",
      "/Users/enrico.t/code/ml-reference-implementations/venv/lib/python2.7/site-packages/sklearn/model_selection/_search.py:841: DeprecationWarning: The default of the `iid` parameter will change from True to False in version 0.22 and will be removed in 0.24. This will change numeric results when test-set sizes are unequal.\n",
      "  DeprecationWarning)\n"
     ]
    }
   ],
   "source": [
    "\"\"\"\n",
    "PLAN (BabI task 1)\n",
    "\n",
    "given input:\n",
    "- fact 1   | John travelled to the hallway.\n",
    "- fact 2   | Mary journeyed to the bathroom.\n",
    "- question | Where is John?\n",
    "\n",
    "output:\n",
    "- answer   | hallway\n",
    "\"\"\"\n",
    "\n",
    "from sklearn.feature_extraction.text import CountVectorizer\n",
    "from sklearn.feature_extraction.text import TfidfTransformer\n",
    "from sklearn.model_selection import GridSearchCV\n",
    "from sklearn.pipeline import Pipeline\n",
    "from sklearn.ensemble import RandomForestClassifier\n",
    "from sklearn.ensemble import ExtraTreesClassifier\n",
    "\n",
    "pipeline = Pipeline([\n",
    "    ('bow', CountVectorizer(stop_words='english')),\n",
    "    ('tfidf', TfidfTransformer()),\n",
    "#    ('clf', ExtraTreesClassifier()),\n",
    "    ('clf', RandomForestClassifier()),\n",
    "])\n",
    "\n",
    "parameters = {\n",
    "    'clf__n_estimators': [10, 50, 100],\n",
    "    'clf__criterion': ['gini', 'entropy'],\n",
    "    'clf__max_depth': [1, 2, 3, 5, 8, 13],\n",
    "    'clf__max_features': [1, 2, 3, 5, 8, 13],\n",
    "}\n",
    "\n",
    "import pandas as pd\n",
    "from parse_dataset import parse_data\n",
    "\n",
    "df_train = parse_data('/Users/enrico.t/code/ml-reference-implementations/' + \n",
    "                      'data/babI/tasks_1-20_v1-2/en/qa1_single-supporting-fact_train.txt')\n",
    "\n",
    "X_train = df_train['fact1'] + ' ' + df_train['fact2'] + ' ' + df_train['question']\n",
    "y_train = df_train['answer']\n",
    "\n",
    "df_test = parse_data('/Users/enrico.t/code/ml-reference-implementations/' + \n",
    "                     'data/babI/tasks_1-20_v1-2/en/qa1_single-supporting-fact_test.txt')\n",
    "\n",
    "X_test = df_test['fact1'] + ' ' + df_test['fact2'] + ' ' + df_test['question']\n",
    "y_test = df_test['answer']\n",
    "\n",
    "model = GridSearchCV(\n",
    "    pipeline, \n",
    "    parameters, \n",
    "    cv=5,\n",
    "    n_jobs=-1, \n",
    "    verbose=1\n",
    ")\n",
    "model.fit(X_train, y_train)\n",
    "y_predict = model.predict(X_test)\n",
    "\n",
    "print model.best_params_"
   ]
  },
  {
   "cell_type": "code",
   "execution_count": 2,
   "metadata": {
    "scrolled": false
   },
   "outputs": [
    {
     "name": "stderr",
     "output_type": "stream",
     "text": [
      "/Users/enrico.t/code/ml-reference-implementations/venv/lib/python2.7/site-packages/pandas_ml/confusion_matrix/stats.py:60: FutureWarning: supplying multiple axes to axis is deprecated and will be removed in a future version.\n",
      "  num = df[df > 1].dropna(axis=[0, 1], thresh=1).applymap(lambda n: choose(n, 2)).sum().sum() - np.float64(nis2 * njs2) / n2\n"
     ]
    },
    {
     "name": "stdout",
     "output_type": "stream",
     "text": [
      "Confusion Matrix:\n",
      "\n",
      "Predicted  bathroom  bedroom  garden  hallway  kitchen  office  __all__\n",
      "Actual                                                                 \n",
      "bathroom         83        0      23       14       23       6      149\n",
      "bedroom          30       18      31       21       36      35      171\n",
      "garden           26        2      86       21       25      27      187\n",
      "hallway          13        1       8       73       29      30      154\n",
      "kitchen          12        1       8        6      109      21      157\n",
      "office           42        1      10       17       26      86      182\n",
      "__all__         206       23     166      152      248     205     1000\n",
      "\n",
      "\n",
      "Overall Statistics:\n",
      "\n",
      "Accuracy: 0.455\n",
      "95% CI: (0.4238074480790716, 0.4864582053371741)\n",
      "No Information Rate: ToDo\n",
      "P-Value [Acc > NIR]: 8.006867308205993e-46\n",
      "Kappa: 0.3470528120458573\n",
      "Mcnemar's Test P-Value: ToDo\n",
      "\n",
      "\n",
      "Class Statistics:\n",
      "\n",
      "Classes                                 bathroom     bedroom    garden  \\\n",
      "Population                                  1000        1000      1000   \n",
      "P: Condition positive                        149         171       187   \n",
      "N: Condition negative                        851         829       813   \n",
      "Test outcome positive                        206          23       166   \n",
      "Test outcome negative                        794         977       834   \n",
      "TP: True Positive                             83          18        86   \n",
      "TN: True Negative                            728         824       733   \n",
      "FP: False Positive                           123           5        80   \n",
      "FN: False Negative                            66         153       101   \n",
      "TPR: (Sensitivity, hit rate, recall)    0.557047    0.105263  0.459893   \n",
      "TNR=SPC: (Specificity)                  0.855464    0.993969  0.901599   \n",
      "PPV: Pos Pred Value (Precision)         0.402913    0.782609  0.518072   \n",
      "NPV: Neg Pred Value                     0.916877    0.843398  0.878897   \n",
      "FPR: False-out                          0.144536  0.00603136  0.098401   \n",
      "FDR: False Discovery Rate               0.597087    0.217391  0.481928   \n",
      "FNR: Miss Rate                          0.442953    0.894737  0.540107   \n",
      "ACC: Accuracy                              0.811       0.842     0.819   \n",
      "F1 score                                0.467606    0.185567  0.487252   \n",
      "MCC: Matthews correlation coefficient   0.363203    0.249238  0.378816   \n",
      "Informedness                            0.412511   0.0992318  0.361492   \n",
      "Markedness                              0.319789    0.626007  0.396969   \n",
      "Prevalence                                 0.149       0.171     0.187   \n",
      "LR+: Positive likelihood ratio           3.85404     17.4526   4.67366   \n",
      "LR-: Negative likelihood ratio          0.517793    0.900166  0.599055   \n",
      "DOR: Diagnostic odds ratio               7.44321     19.3882   7.80173   \n",
      "FOR: False omission rate               0.0831234    0.156602  0.121103   \n",
      "\n",
      "Classes                                  hallway    kitchen    office  \n",
      "Population                                  1000       1000      1000  \n",
      "P: Condition positive                        154        157       182  \n",
      "N: Condition negative                        846        843       818  \n",
      "Test outcome positive                        152        248       205  \n",
      "Test outcome negative                        848        752       795  \n",
      "TP: True Positive                             73        109        86  \n",
      "TN: True Negative                            767        704       699  \n",
      "FP: False Positive                            79        139       119  \n",
      "FN: False Negative                            81         48        96  \n",
      "TPR: (Sensitivity, hit rate, recall)    0.474026   0.694268  0.472527  \n",
      "TNR=SPC: (Specificity)                  0.906619   0.835113  0.854523  \n",
      "PPV: Pos Pred Value (Precision)         0.480263   0.439516  0.419512  \n",
      "NPV: Neg Pred Value                     0.904481    0.93617  0.879245  \n",
      "FPR: False-out                         0.0933806   0.164887  0.145477  \n",
      "FDR: False Discovery Rate               0.519737   0.560484  0.580488  \n",
      "FNR: Miss Rate                          0.525974   0.305732  0.527473  \n",
      "ACC: Accuracy                               0.84      0.813     0.785  \n",
      "F1 score                                0.477124   0.538272  0.444444  \n",
      "MCC: Matthews correlation coefficient   0.382689   0.445961  0.312584  \n",
      "Informedness                            0.380645    0.52938  0.327051  \n",
      "Markedness                              0.384744   0.375686  0.298757  \n",
      "Prevalence                                 0.154      0.157     0.182  \n",
      "LR+: Positive likelihood ratio           5.07628    4.21056   3.24813  \n",
      "LR-: Negative likelihood ratio          0.580149   0.366097  0.617271  \n",
      "DOR: Diagnostic odds ratio               8.74996    11.5012   5.26208  \n",
      "FOR: False omission rate               0.0955189  0.0638298  0.120755  \n",
      "AxesSubplot(0.125,0.11;0.62x0.77)\n"
     ]
    }
   ],
   "source": [
    "from pandas_ml import ConfusionMatrix\n",
    "\n",
    "cm = ConfusionMatrix(y_test, y_predict)\n",
    "cm.print_stats()\n",
    "print cm.plot()"
   ]
  },
  {
   "cell_type": "code",
   "execution_count": null,
   "metadata": {},
   "outputs": [],
   "source": []
  }
 ],
 "metadata": {
  "kernelspec": {
   "display_name": "ml_workbench",
   "language": "python",
   "name": "ml_workbench"
  },
  "language_info": {
   "codemirror_mode": {
    "name": "ipython",
    "version": 2
   },
   "file_extension": ".py",
   "mimetype": "text/x-python",
   "name": "python",
   "nbconvert_exporter": "python",
   "pygments_lexer": "ipython2",
   "version": "2.7.15"
  }
 },
 "nbformat": 4,
 "nbformat_minor": 2
}
