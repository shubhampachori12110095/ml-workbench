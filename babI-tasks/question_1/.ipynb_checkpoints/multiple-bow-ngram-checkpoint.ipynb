{
 "cells": [
  {
   "cell_type": "code",
   "execution_count": null,
   "metadata": {},
   "outputs": [],
   "source": [
    "\"\"\"\n",
    "PLAN (BabI task 1)\n",
    "\n",
    "given input:\n",
    "- fact 1   | John travelled to the hallway.\n",
    "- fact 2   | Mary journeyed to the bathroom.\n",
    "- question | Where is John?\n",
    "\n",
    "output:\n",
    "- answer   | hallway\n",
    "\n",
    "idea:\n",
    "\n",
    "create 2 and 3 word of bag grams to demonstrate correlation between names and places. \n",
    "the 1-gram bag of words should also pick this relationship up, \n",
    "maybe we'll get better performance from having a more specific feature for this.\n",
    "\n",
    "may also be worth to set a min_count to get rid of the unimportant grams.\n",
    "\n",
    "example:\n",
    "\n",
    "fact 1: \"john-hallway\"\n",
    "fact 2 :\"mary-bathroom\"\n",
    "question: \"where-john\" \n",
    "answer: \"hallway\"\n",
    "\"\"\""
   ]
  },
  {
   "cell_type": "code",
   "execution_count": null,
   "metadata": {},
   "outputs": [],
   "source": [
    "df_train = parse_data('/Users/enrico.t/code/ml_workbench/' + \n",
    "                      'data/babI/tasks_1-20_v1-2/en/qa1_single-supporting-fact_train.txt')\n",
    "\n",
    "X_train = df_train[['fact1', 'fact2', 'question']]\n",
    "y_train = df_train['answer']\n",
    "\n",
    "df_test = parse_data('/Users/enrico.t/code/ml_workbench/' + \n",
    "                     'data/babI/tasks_1-20_v1-2/en/qa1_single-supporting-fact_test.txt')\n",
    "\n",
    "X_test = df_test[['fact1', 'fact2', 'question']]\n",
    "y_test = df_test['answer']"
   ]
  },
  {
   "cell_type": "code",
   "execution_count": null,
   "metadata": {},
   "outputs": [],
   "source": [
    "from sklearn.pipeline import Pipeline\n",
    "from sklearn.ensemble import RandomForestClassifier\n",
    "# from vectorizers.ColumnBowVectorizer import ColumnBowVectorizer\n",
    "\n",
    "model = [\n",
    "    ('bow', ColumnBowVectorizer()),\n",
    "    ('clf', RandomForestClassifier()),\n",
    "]\n",
    "\n",
    "model.fit_transform(X_train, y_train)\n",
    "y_predict = model.predict(X_test)"
   ]
  },
  {
   "cell_type": "code",
   "execution_count": null,
   "metadata": {},
   "outputs": [],
   "source": [
    "from pandas_ml import ConfusionMatrix\n",
    "\n",
    "cm = ConfusionMatrix(y_test, y_predict)\n",
    "cm.print_stats()\n",
    "print cm.plot()"
   ]
  }
 ],
 "metadata": {
  "kernelspec": {
   "display_name": "ml-reference-implementations",
   "language": "python",
   "name": "ml-reference-implementations"
  },
  "language_info": {
   "codemirror_mode": {
    "name": "ipython",
    "version": 2
   },
   "file_extension": ".py",
   "mimetype": "text/x-python",
   "name": "python",
   "nbconvert_exporter": "python",
   "pygments_lexer": "ipython2",
   "version": "2.7.15"
  }
 },
 "nbformat": 4,
 "nbformat_minor": 2
}
