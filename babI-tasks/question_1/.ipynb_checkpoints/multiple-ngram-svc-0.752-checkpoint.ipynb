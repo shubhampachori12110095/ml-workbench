{
 "cells": [
  {
   "cell_type": "code",
   "execution_count": 135,
   "metadata": {},
   "outputs": [],
   "source": [
    "import os\n",
    "import sys\n",
    "%reload_ext autoreload\n",
    "%autoreload\n",
    "\n",
    "project_root = os.path.abspath(os.path.join('../../../'))\n",
    "if project_root not in sys.path:\n",
    "    sys.path.append(project_root)"
   ]
  },
  {
   "cell_type": "code",
   "execution_count": 136,
   "metadata": {},
   "outputs": [],
   "source": [
    "import pandas as pd\n",
    "from ml_workbench.src.data_loaders.BablTask1Loader import split_parse_data\n",
    "\n",
    "X_train, y_train = split_parse_data('/Users/enrico.t/code/ml_workbench/' + \n",
    "  'data/tasks_1-20_v1-2/en/qa1_single-supporting-fact_train.txt')\n",
    "\n",
    "X_test, y_test = split_parse_data('/Users/enrico.t/code/ml_workbench/' + \n",
    " 'data/tasks_1-20_v1-2/en/qa1_single-supporting-fact_test.txt')"
   ]
  },
  {
   "cell_type": "code",
   "execution_count": 137,
   "metadata": {},
   "outputs": [
    {
     "name": "stdout",
     "output_type": "stream",
     "text": [
      "Fitting 5 folds for each of 16 candidates, totalling 80 fits\n"
     ]
    },
    {
     "name": "stderr",
     "output_type": "stream",
     "text": [
      "[Parallel(n_jobs=-1)]: Using backend LokyBackend with 4 concurrent workers.\n",
      "[Parallel(n_jobs=-1)]: Done  42 tasks      | elapsed:   32.3s\n",
      "[Parallel(n_jobs=-1)]: Done  80 out of  80 | elapsed:   57.2s finished\n",
      "/Users/enrico.t/code/ml_workbench/venv/lib/python2.7/site-packages/sklearn/model_selection/_search.py:841: DeprecationWarning: The default of the `iid` parameter will change from True to False in version 0.22 and will be removed in 0.24. This will change numeric results when test-set sizes are unequal.\n",
      "  DeprecationWarning)\n"
     ]
    },
    {
     "name": "stdout",
     "output_type": "stream",
     "text": [
      "{'clf__gamma': 0.0001, 'clf__C': 100}\n"
     ]
    }
   ],
   "source": [
    "from sklearn.pipeline import Pipeline\n",
    "from sklearn.model_selection import GridSearchCV\n",
    "from sklearn.feature_extraction.text import CountVectorizer, TfidfTransformer\n",
    "from sklearn.svm import SVC\n",
    "from ml_workbench.src.vectorizers.ColumnBowVectorizer import ColumnBowVectorizer\n",
    "\n",
    "pipeline = Pipeline([\n",
    "    ('bow', ColumnBowVectorizer()),\n",
    "    ('clf', SVC()) # probability = True ?\n",
    "])\n",
    "\n",
    "parameters = {\n",
    "    'clf__C': [1, 10, 100, 1000],\n",
    "    'clf__gamma': [1, 0.1, 0.001, 0.0001], \n",
    "}\n",
    "\n",
    "grid = GridSearchCV(\n",
    "    pipeline, \n",
    "    parameters, \n",
    "    cv=5,\n",
    "    n_jobs=-1, \n",
    "    verbose=1\n",
    ")\n",
    "\n",
    "grid.fit(X_train, y_train)\n",
    "y_predict = grid.predict(X_test)\n",
    "\n",
    "print grid.best_params_"
   ]
  },
  {
   "cell_type": "code",
   "execution_count": 138,
   "metadata": {
    "scrolled": true
   },
   "outputs": [
    {
     "name": "stdout",
     "output_type": "stream",
     "text": [
      "Confusion Matrix:\n",
      "\n",
      "Predicted  bathroom  bedroom  garden  hallway  kitchen  office  __all__\n",
      "Actual                                                                 \n",
      "bathroom         79       16      20       10       10      14      149\n",
      "bedroom          23       85      21        9       16      17      171\n",
      "garden           11       16     107        9       20      24      187\n",
      "hallway          11       16      20       70       14      23      154\n",
      "kitchen          14       11      17       12       92      11      157\n",
      "office           27       15      20       14       17      89      182\n",
      "__all__         165      159     205      124      169     178     1000\n",
      "\n",
      "\n",
      "Overall Statistics:\n",
      "\n",
      "Accuracy: 0.522\n",
      "95% CI: (0.4905141770462971, 0.5533559562375318)\n",
      "No Information Rate: ToDo\n",
      "P-Value [Acc > NIR]: 1.7349035015224894e-108\n",
      "Kappa: 0.4253882235840869\n",
      "Mcnemar's Test P-Value: ToDo\n",
      "\n",
      "\n",
      "Class Statistics:\n",
      "\n",
      "Classes                                 bathroom    bedroom    garden  \\\n",
      "Population                                  1000       1000      1000   \n",
      "P: Condition positive                        149        171       187   \n",
      "N: Condition negative                        851        829       813   \n",
      "Test outcome positive                        165        159       205   \n",
      "Test outcome negative                        835        841       795   \n",
      "TP: True Positive                             79         85       107   \n",
      "TN: True Negative                            765        755       715   \n",
      "FP: False Positive                            86         74        98   \n",
      "FN: False Negative                            70         86        80   \n",
      "TPR: (Sensitivity, hit rate, recall)    0.530201   0.497076  0.572193   \n",
      "TNR=SPC: (Specificity)                  0.898942   0.910736  0.879459   \n",
      "PPV: Pos Pred Value (Precision)         0.478788   0.534591  0.521951   \n",
      "NPV: Neg Pred Value                     0.916168   0.897741  0.899371   \n",
      "FPR: False-out                          0.101058  0.0892642  0.120541   \n",
      "FDR: False Discovery Rate               0.521212   0.465409  0.478049   \n",
      "FNR: Miss Rate                          0.469799   0.502924  0.427807   \n",
      "ACC: Accuracy                              0.844       0.84     0.822   \n",
      "F1 score                                0.503185   0.515152  0.545918   \n",
      "MCC: Matthews correlation coefficient   0.411695   0.419893  0.436223   \n",
      "Informedness                            0.429144   0.407812  0.451651   \n",
      "Markedness                              0.394956   0.432332  0.421322   \n",
      "Prevalence                                 0.149      0.171     0.187   \n",
      "LR+: Positive likelihood ratio           5.24653    5.56859   4.74686   \n",
      "LR-: Negative likelihood ratio          0.522613   0.552217  0.486444   \n",
      "DOR: Diagnostic odds ratio                10.039    10.0841   9.75829   \n",
      "FOR: False omission rate               0.0838323   0.102259  0.100629   \n",
      "\n",
      "Classes                                  hallway    kitchen    office  \n",
      "Population                                  1000       1000      1000  \n",
      "P: Condition positive                        154        157       182  \n",
      "N: Condition negative                        846        843       818  \n",
      "Test outcome positive                        124        169       178  \n",
      "Test outcome negative                        876        831       822  \n",
      "TP: True Positive                             70         92        89  \n",
      "TN: True Negative                            792        766       729  \n",
      "FP: False Positive                            54         77        89  \n",
      "FN: False Negative                            84         65        93  \n",
      "TPR: (Sensitivity, hit rate, recall)    0.454545   0.585987  0.489011  \n",
      "TNR=SPC: (Specificity)                   0.93617    0.90866  0.891198  \n",
      "PPV: Pos Pred Value (Precision)         0.564516   0.544379       0.5  \n",
      "NPV: Neg Pred Value                      0.90411   0.921781  0.886861  \n",
      "FPR: False-out                         0.0638298  0.0913405  0.108802  \n",
      "FDR: False Discovery Rate               0.435484   0.455621       0.5  \n",
      "FNR: Miss Rate                          0.545455   0.414013  0.510989  \n",
      "ACC: Accuracy                              0.862      0.858     0.818  \n",
      "F1 score                                0.503597   0.564417  0.494444  \n",
      "MCC: Matthews correlation coefficient   0.427901   0.480192  0.383521  \n",
      "Informedness                            0.390716   0.494647  0.380209  \n",
      "Markedness                              0.468626    0.46616  0.386861  \n",
      "Prevalence                                 0.154      0.157     0.182  \n",
      "LR+: Positive likelihood ratio           7.12121    6.41542   4.49451  \n",
      "LR-: Negative likelihood ratio          0.582645    0.45563  0.573373  \n",
      "DOR: Diagnostic odds ratio               12.2222    14.0803   7.83871  \n",
      "FOR: False omission rate               0.0958904   0.078219  0.113139  \n",
      "AxesSubplot(0.125,0.125;0.62x0.755)\n"
     ]
    },
    {
     "data": {
      "image/png": "[encoded data removed]",
      "text/plain": [
       "<Figure size 648x576 with 2 Axes>"
      ]
     },
     "metadata": {
      "needs_background": "light"
     },
     "output_type": "display_data"
    }
   ],
   "source": [
    "from pandas_ml import ConfusionMatrix\n",
    "\n",
    "cm = ConfusionMatrix(y_test.values.flatten(), y_predict)\n",
    "cm.print_stats()\n",
    "print cm.plot()"
   ]
  },
  {
   "cell_type": "code",
   "execution_count": 140,
   "metadata": {},
   "outputs": [
    {
     "ename": "AttributeError",
     "evalue": "'ColumnBowVectorizer' object has no attribute '_features'",
     "output_type": "error",
     "traceback": [
      "\u001b[0;31m---------------------------------------------------------------------------\u001b[0m",
      "\u001b[0;31mAttributeError\u001b[0m                            Traceback (most recent call last)",
      "\u001b[0;32m<ipython-input-140-380453e2ebbd>\u001b[0m in \u001b[0;36m<module>\u001b[0;34m()\u001b[0m\n\u001b[1;32m      1\u001b[0m \u001b[0mbow\u001b[0m \u001b[0;34m=\u001b[0m \u001b[0mpipeline\u001b[0m\u001b[0;34m.\u001b[0m\u001b[0mnamed_steps\u001b[0m\u001b[0;34m[\u001b[0m\u001b[0;34m'bow'\u001b[0m\u001b[0;34m]\u001b[0m\u001b[0;34m\u001b[0m\u001b[0m\n\u001b[0;32m----> 2\u001b[0;31m \u001b[0;32mprint\u001b[0m \u001b[0mbow\u001b[0m\u001b[0;34m.\u001b[0m\u001b[0m_features\u001b[0m\u001b[0;34m\u001b[0m\u001b[0m\n\u001b[0m",
      "\u001b[0;31mAttributeError\u001b[0m: 'ColumnBowVectorizer' object has no attribute '_features'"
     ]
    }
   ],
   "source": [
    "bow = pipeline.named_steps['bow']\n",
    "print bow._features"
   ]
  },
  {
   "cell_type": "code",
   "execution_count": null,
   "metadata": {},
   "outputs": [],
   "source": []
  }
 ],
 "metadata": {
  "kernelspec": {
   "display_name": "ml_workbench",
   "language": "python",
   "name": "ml_workbench"
  },
  "language_info": {
   "codemirror_mode": {
    "name": "ipython",
    "version": 2
   },
   "file_extension": ".py",
   "mimetype": "text/x-python",
   "name": "python",
   "nbconvert_exporter": "python",
   "pygments_lexer": "ipython2",
   "version": "2.7.15"
  }
 },
 "nbformat": 4,
 "nbformat_minor": 2
}
