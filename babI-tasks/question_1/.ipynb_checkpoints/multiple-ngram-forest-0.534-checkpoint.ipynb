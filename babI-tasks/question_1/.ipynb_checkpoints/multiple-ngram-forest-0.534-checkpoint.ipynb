{
 "cells": [
  {
   "cell_type": "code",
   "execution_count": 1,
   "metadata": {},
   "outputs": [],
   "source": [
    "import os\n",
    "import sys\n",
    "%reload_ext autoreload\n",
    "%autoreload\n",
    "\n",
    "project_root = os.path.abspath(os.path.join('../../../'))\n",
    "if project_root not in sys.path:\n",
    "    sys.path.append(project_root)"
   ]
  },
  {
   "cell_type": "code",
   "execution_count": 2,
   "metadata": {},
   "outputs": [],
   "source": [
    "import pandas as pd\n",
    "from ml_workbench.src.data_loaders.BablTask1Loader import split_parse_data\n",
    "\n",
    "X_train, y_train = split_parse_data('/Users/enrico.t/code/ml_workbench/' + \n",
    "  'data/tasks_1-20_v1-2/en/qa1_single-supporting-fact_train.txt')\n",
    "\n",
    "X_test, y_test = split_parse_data('/Users/enrico.t/code/ml_workbench/' + \n",
    " 'data/tasks_1-20_v1-2/en/qa1_single-supporting-fact_test.txt')"
   ]
  },
  {
   "cell_type": "code",
   "execution_count": 4,
   "metadata": {},
   "outputs": [
    {
     "name": "stdout",
     "output_type": "stream",
     "text": [
      "Fitting 3 folds for each of 288 candidates, totalling 864 fits\n"
     ]
    },
    {
     "name": "stderr",
     "output_type": "stream",
     "text": [
      "[Parallel(n_jobs=-1)]: Using backend LokyBackend with 4 concurrent workers.\n",
      "[Parallel(n_jobs=-1)]: Done  42 tasks      | elapsed:   43.7s\n",
      "[Parallel(n_jobs=-1)]: Done 192 tasks      | elapsed:  3.5min\n",
      "[Parallel(n_jobs=-1)]: Done 442 tasks      | elapsed:  8.8min\n",
      "[Parallel(n_jobs=-1)]: Done 792 tasks      | elapsed: 16.2min\n",
      "[Parallel(n_jobs=-1)]: Done 864 out of 864 | elapsed: 17.6min finished\n",
      "/Users/enrico.t/code/ml_workbench/venv/lib/python2.7/site-packages/sklearn/model_selection/_search.py:841: DeprecationWarning: The default of the `iid` parameter will change from True to False in version 0.22 and will be removed in 0.24. This will change numeric results when test-set sizes are unequal.\n",
      "  DeprecationWarning)\n",
      "/Users/enrico.t/code/ml_workbench/venv/lib/python2.7/site-packages/sklearn/pipeline.py:267: DataConversionWarning: A column-vector y was passed when a 1d array was expected. Please change the shape of y to (n_samples,), for example using ravel().\n",
      "  self._final_estimator.fit(Xt, y, **fit_params)\n"
     ]
    },
    {
     "name": "stdout",
     "output_type": "stream",
     "text": [
      "{'clf__criterion': 'entropy', 'clf__max_depth': 10, 'clf__max_features': 40, 'clf__n_estimators': 500}\n"
     ]
    }
   ],
   "source": [
    "from sklearn.pipeline import Pipeline\n",
    "from sklearn.model_selection import GridSearchCV\n",
    "from sklearn.ensemble import RandomForestClassifier\n",
    "from ml_workbench.src.vectorizers.ColumnBowVectorizer import ColumnBowVectorizer\n",
    "\n",
    "pipeline = Pipeline([\n",
    "    ('bow', ColumnBowVectorizer()),\n",
    "    ('clf', RandomForestClassifier())\n",
    "])\n",
    "\n",
    "parameters = {\n",
    "    'clf__n_estimators': [10, 100, 200, 500],    \n",
    "    'clf__max_depth': [5, 10, 20, 30], \n",
    "    'clf__max_features': [5, 10, 20, 40, 80, 120, 200] + ['sqrt', 'log2'],\n",
    "    'clf__criterion': ['entropy', 'gini'],\n",
    "}\n",
    "\n",
    "grid = GridSearchCV(\n",
    "    pipeline, \n",
    "    parameters, \n",
    "    cv=3,\n",
    "    n_jobs=-1, \n",
    "    verbose=1\n",
    ")\n",
    "\n",
    "grid.fit(X_train, y_train)\n",
    "y_predict = grid.predict(X_test)\n",
    "\n",
    "print grid.best_params_"
   ]
  },
  {
   "cell_type": "code",
   "execution_count": 7,
   "metadata": {
    "scrolled": false
   },
   "outputs": [
    {
     "name": "stdout",
     "output_type": "stream",
     "text": [
      "Confusion Matrix:\n",
      "\n",
      "Predicted  bathroom  bedroom  garden  hallway  kitchen  office  __all__\n",
      "Actual                                                                 \n",
      "bathroom         75       18      22       10       11      13      149\n",
      "bedroom          21       87      20       11       16      16      171\n",
      "garden           10       17     107        8       21      24      187\n",
      "hallway          11       15      16       79       14      19      154\n",
      "kitchen          12       13      17       10       94      11      157\n",
      "office           25       16      18       15       16      92      182\n",
      "__all__         154      166     200      133      172     175     1000\n",
      "\n",
      "\n",
      "Overall Statistics:\n",
      "\n",
      "Accuracy: 0.534\n",
      "95% CI: (0.5025203702102622, 0.565278921112278)\n",
      "No Information Rate: ToDo\n",
      "P-Value [Acc > NIR]: 1.3318165622838225e-120\n",
      "Kappa: 0.4398580653226466\n",
      "Mcnemar's Test P-Value: ToDo\n",
      "\n",
      "\n",
      "Class Statistics:\n",
      "\n",
      "Classes                                 bathroom    bedroom    garden  \\\n",
      "Population                                  1000       1000      1000   \n",
      "P: Condition positive                        149        171       187   \n",
      "N: Condition negative                        851        829       813   \n",
      "Test outcome positive                        154        166       200   \n",
      "Test outcome negative                        846        834       800   \n",
      "TP: True Positive                             75         87       107   \n",
      "TN: True Negative                            772        750       720   \n",
      "FP: False Positive                            79         79        93   \n",
      "FN: False Negative                            74         84        80   \n",
      "TPR: (Sensitivity, hit rate, recall)    0.503356   0.508772  0.572193   \n",
      "TNR=SPC: (Specificity)                  0.907168   0.904704  0.885609   \n",
      "PPV: Pos Pred Value (Precision)         0.487013   0.524096     0.535   \n",
      "NPV: Neg Pred Value                      0.91253   0.899281       0.9   \n",
      "FPR: False-out                          0.092832  0.0952955  0.114391   \n",
      "FDR: False Discovery Rate               0.512987   0.475904     0.465   \n",
      "FNR: Miss Rate                          0.496644   0.491228  0.427807   \n",
      "ACC: Accuracy                              0.847      0.837     0.827   \n",
      "F1 score                                 0.49505    0.51632  0.552972   \n",
      "MCC: Matthews correlation coefficient   0.404996   0.418397  0.446255   \n",
      "Informedness                            0.410524   0.413476  0.457801   \n",
      "Markedness                              0.399543   0.423377     0.435   \n",
      "Prevalence                                 0.149      0.171     0.187   \n",
      "LR+: Positive likelihood ratio           5.42222    5.33889   5.00207   \n",
      "LR-: Negative likelihood ratio          0.547467   0.542971  0.483066   \n",
      "DOR: Diagnostic odds ratio               9.90421    9.83273   10.3548   \n",
      "FOR: False omission rate               0.0874704   0.100719       0.1   \n",
      "\n",
      "Classes                                  hallway    kitchen    office  \n",
      "Population                                  1000       1000      1000  \n",
      "P: Condition positive                        154        157       182  \n",
      "N: Condition negative                        846        843       818  \n",
      "Test outcome positive                        133        172       175  \n",
      "Test outcome negative                        867        828       825  \n",
      "TP: True Positive                             79         94        92  \n",
      "TN: True Negative                            792        765       735  \n",
      "FP: False Positive                            54         78        83  \n",
      "FN: False Negative                            75         63        90  \n",
      "TPR: (Sensitivity, hit rate, recall)    0.512987   0.598726  0.505495  \n",
      "TNR=SPC: (Specificity)                   0.93617   0.907473  0.898533  \n",
      "PPV: Pos Pred Value (Precision)         0.593985   0.546512  0.525714  \n",
      "NPV: Neg Pred Value                     0.913495   0.923913  0.890909  \n",
      "FPR: False-out                         0.0638298  0.0925267  0.101467  \n",
      "FDR: False Discovery Rate               0.406015   0.453488  0.474286  \n",
      "FNR: Miss Rate                          0.487013   0.401274  0.494505  \n",
      "ACC: Accuracy                              0.871      0.859     0.827  \n",
      "F1 score                                0.550523   0.571429  0.515406  \n",
      "MCC: Matthews correlation coefficient   0.477429   0.487984  0.410277  \n",
      "Informedness                            0.449157   0.506199  0.404028  \n",
      "Markedness                               0.50748   0.470425  0.416623  \n",
      "Prevalence                                 0.154      0.157     0.182  \n",
      "LR+: Positive likelihood ratio            8.0368    6.47085   4.98186  \n",
      "LR-: Negative likelihood ratio          0.520218   0.442188  0.550348  \n",
      "DOR: Diagnostic odds ratio               15.4489    14.6337   9.05221  \n",
      "FOR: False omission rate               0.0865052   0.076087  0.109091  \n"
     ]
    }
   ],
   "source": [
    "from pandas_ml import ConfusionMatrix\n",
    "\n",
    "cm = ConfusionMatrix(y_test.values.flatten(), y_predict)\n",
    "cm.print_stats()"
   ]
  },
  {
   "cell_type": "code",
   "execution_count": 6,
   "metadata": {},
   "outputs": [
    {
     "data": {
      "text/plain": [
       "<matplotlib.axes._subplots.AxesSubplot at 0x119704510>"
      ]
     },
     "execution_count": 6,
     "metadata": {},
     "output_type": "execute_result"
    }
   ],
   "source": [
    "cm.plot()"
   ]
  },
  {
   "cell_type": "code",
   "execution_count": null,
   "metadata": {},
   "outputs": [],
   "source": []
  }
 ],
 "metadata": {
  "kernelspec": {
   "display_name": "ml_workbench",
   "language": "python",
   "name": "ml_workbench"
  },
  "language_info": {
   "codemirror_mode": {
    "name": "ipython",
    "version": 2
   },
   "file_extension": ".py",
   "mimetype": "text/x-python",
   "name": "python",
   "nbconvert_exporter": "python",
   "pygments_lexer": "ipython2",
   "version": "2.7.15"
  }
 },
 "nbformat": 4,
 "nbformat_minor": 2
}
